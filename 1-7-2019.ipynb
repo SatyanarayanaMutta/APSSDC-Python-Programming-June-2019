{
 "cells": [
  {
   "cell_type": "code",
   "execution_count": 2,
   "metadata": {},
   "outputs": [
    {
     "name": "stdout",
     "output_type": "stream",
     "text": [
      "10\n",
      "['04000US01' 'Alabama' 37150 37952 42212 44476 39980 40933 42590 43464\n",
      " 41381]\n"
     ]
    }
   ],
   "source": [
    "# Function to find Average Income of all states from 2005 to 2013\n",
    "import pandas as pd\n",
    "def readCSV(df):\n",
    "    return pd.read_csv(df)\n",
    "\n",
    "def headingIndexFinder(df,year):\n",
    "    for column in range(len(df.columns)):\n",
    "        if df.columns[column]==year:\n",
    "            print(column)\n",
    "            return column\n",
    "\n",
    "filepath=\"DataFiles/income.csv\"\n",
    "data=readCSV(filepath)\n",
    "headingIndexFinder(data,\"2013\")\n",
    "print(data.values[0])"
   ]
  },
  {
   "cell_type": "code",
   "execution_count": 98,
   "metadata": {},
   "outputs": [
    {
     "name": "stdout",
     "output_type": "stream",
     "text": [
      "[37150 37952 42212 44476 39980 40933 42590 43464 41381]\n",
      "[55891 56418 62993 63989 61604 57848 57431 63648 61137]\n",
      "[45245 46657 47215 46914 45739 46896 48621 47044 50602]\n",
      "[36658 37057 40795 39586 36538 38587 41302 39018 39919]\n"
     ]
    }
   ],
   "source": [
    "columnpos=2\n",
    "for j in data.values:\n",
    "    print(j[2:])"
   ]
  },
  {
   "cell_type": "code",
   "execution_count": 100,
   "metadata": {},
   "outputs": [
    {
     "name": "stdout",
     "output_type": "stream",
     "text": [
      "Start Year->  2\n",
      "End Year->  10\n",
      "[37150 37952 42212 44476 39980 40933 42590 43464 41381]\n",
      "[55891 56418 62993 63989 61604 57848 57431 63648 61137]\n",
      "[45245 46657 47215 46914 45739 46896 48621 47044 50602]\n",
      "[36658 37057 40795 39586 36538 38587 41302 39018 39919]\n",
      "Total-> 1492451 \n",
      "No. of lines-> 4\n"
     ]
    },
    {
     "data": {
      "text/plain": [
       "373112.75"
      ]
     },
     "execution_count": 100,
     "metadata": {},
     "output_type": "execute_result"
    }
   ],
   "source": [
    "def avgOfAllStates(df,syear,eyear):\n",
    "    total=count=0\n",
    "    for column in range(len(df.columns)):\n",
    "        if df.columns[column]==syear:\n",
    "            startpos=column\n",
    "            print(\"Start Year-> \",startpos)\n",
    "            break\n",
    "    for column in range(len(df.columns)):\n",
    "        if df.columns[column]==eyear:\n",
    "            endpos=column\n",
    "            print(\"End Year-> \",endpos)\n",
    "            break\n",
    "    for row in data.values:\n",
    "            #print(data.values)\n",
    "            print(row[columnpos:endpos+1])\n",
    "            total+=sum(list(row[columnpos:endpos]))\n",
    "            \n",
    "            count+=1\n",
    "    print(\"Total->\",total,\"\\nNo. of lines->\",count)\n",
    "    return (total/count)\n",
    "\n",
    "filepath=\"DataFiles/income.csv\"\n",
    "#data=readCSV(filepath)\n",
    "avgOfAllStates(data,\"2005\",\"2013\")"
   ]
  },
  {
   "cell_type": "code",
   "execution_count": 143,
   "metadata": {},
   "outputs": [
    {
     "name": "stdout",
     "output_type": "stream",
     "text": [
      "42478.333333333336\n",
      "60738.666666666664\n",
      "48755.666666666664\n",
      "40079.666666666664\n",
      "Highest Average State->  Alaska 60738.666666666664\n"
     ]
    }
   ],
   "source": [
    "# Function to find State with highest average income in the last three years\n",
    "\n",
    "def highestAvgForLastTreeYears(df,years):\n",
    "    # find last third year index\n",
    "    last3=df.columns[-3]\n",
    "    statesavgs={}\n",
    "    total=count=0\n",
    "    for column in df.values:\n",
    "        avg=sum(column[-years:])/years\n",
    "        print(avg)\n",
    "        statesavgs[column[1]]=avg\n",
    "    print(\"Highest Average State-> \",*sorted(statesavgs.items(),key=lambda x:x[1],reverse=True)[0],sep=' ')\n",
    "    return \n",
    "highestAvgForLastTreeYears(data,3)"
   ]
  },
  {
   "cell_type": "code",
   "execution_count": 49,
   "metadata": {},
   "outputs": [
    {
     "name": "stdout",
     "output_type": "stream",
     "text": [
      "4\n",
      "7\n",
      "4 7\n",
      "[42212 44476 39980 40933]    167601    4    41900.25\n",
      "[62993 63989 61604 57848]    246434    4    61608.5\n",
      "[47215 46914 45739 46896]    186764    4    46691.0\n",
      "[40795 39586 36538 38587]    155506    4    38876.5\n",
      "{'Alabama': 41900.25, 'Alaska': 61608.5, 'Arizona': 46691.0, 'Arkansas': 38876.5}\n",
      "Arkansas--->38876.5\n"
     ]
    }
   ],
   "source": [
    "# Function to find State with lowest average income from 2007 to 2010(inclusive)\n",
    "\n",
    "def lowestAvgState(df,year1,year2):\n",
    "    avgs={}\n",
    "    syear=headingIndexFinder(df,year1)\n",
    "    eyear=headingIndexFinder(df,year2)\n",
    "    print(syear,eyear)\n",
    "    for column in df.values:\n",
    "        #print(column[syear:eyear+1])\n",
    "        li=column[syear:eyear+1]\n",
    "        lisum=sum(li)\n",
    "        columncount=len(li)\n",
    "        avg=lisum/columncount\n",
    "        print(li,lisum,columncount,avg,sep='    ')\n",
    "        avgs[column[1]]=avg\n",
    "    print(avgs)\n",
    "    print(*sorted(avgs.items(),key=lambda x:x[1])[0],sep='--->')\n",
    "lowestAvgState(data,'2007','2010')    "
   ]
  },
  {
   "cell_type": "code",
   "execution_count": 14,
   "metadata": {},
   "outputs": [
    {
     "name": "stdout",
     "output_type": "stream",
     "text": [
      "41126.444444444445\n",
      "60106.555555555555\n",
      "48967.88888888889\n",
      "38828.88888888889\n",
      "55350.444444444445\n",
      "Alabama Arizona Arkansas\n"
     ]
    }
   ],
   "source": [
    "# Function to Print the list of all states in the same line with average income less than California\n",
    "def averageIncomeStatesLessthanCalifornia(df):\n",
    "    avgs={}\n",
    "    for column in df.values:\n",
    "        p=[]\n",
    "        \n",
    "        for num in column:\n",
    "            \n",
    "            if str(num).isdigit():\n",
    "                p.append(num)\n",
    "        avg=sum(p)/len(p)\n",
    "        print(avg)\n",
    "        avgs[column[1]]=avg\n",
    "    result=[x for x in avgs.items() if x[1]<avgs[\"California\"]]\n",
    "    print(*[x[0] for x in result],sep=' ')\n",
    "    #print(result.keys(),sep=' ')        \n",
    "averageIncomeStatesLessthanCalifornia(data)"
   ]
  },
  {
   "cell_type": "code",
   "execution_count": 20,
   "metadata": {},
   "outputs": [
    {
     "name": "stdout",
     "output_type": "stream",
     "text": [
      "6\n",
      "Arizona Arkansas Alabama Alaska California\n"
     ]
    }
   ],
   "source": [
    "# Function to Print the names of states based on descending order of income in the year 2009\n",
    "\n",
    "def decendingOrderIncome2009(df,y):\n",
    "    states={}\n",
    "    yearindex=headingIndexFinder(df,y)\n",
    "    for column in df.values:\n",
    "        states[column[1]]=column[yearindex]\n",
    "    print(*sorted(states,key= lambda x:x[1],reverse=True),sep=' ')\n",
    "\n",
    "decendingOrderIncome2009(data,\"2009\")"
   ]
  },
  {
   "cell_type": "code",
   "execution_count": 28,
   "metadata": {},
   "outputs": [
    {
     "name": "stdout",
     "output_type": "stream",
     "text": [
      "2\n",
      "10\n",
      "California\n"
     ]
    }
   ],
   "source": [
    "# Function to print State with the lowest recorded income from 2005 to 2013\n",
    "\n",
    "def lowestState(df,syear,eyear):\n",
    "    lowlist={}\n",
    "    sy=headingIndexFinder(df,syear)\n",
    "    ey=headingIndexFinder(df,eyear)\n",
    "    for column in df.values:\n",
    "        lowlist[column[1]]=min(column[sy:ey+1])\n",
    "    print(sorted(lowlist,key=lambda x: x[1])[0])\n",
    "\n",
    "\n",
    "lowestState(data,\"2005\",\"2013\")"
   ]
  },
  {
   "cell_type": "code",
   "execution_count": null,
   "metadata": {},
   "outputs": [],
   "source": []
  }
 ],
 "metadata": {
  "kernelspec": {
   "display_name": "Python 3",
   "language": "python",
   "name": "python3"
  },
  "language_info": {
   "codemirror_mode": {
    "name": "ipython",
    "version": 3
   },
   "file_extension": ".py",
   "mimetype": "text/x-python",
   "name": "python",
   "nbconvert_exporter": "python",
   "pygments_lexer": "ipython3",
   "version": "3.7.3"
  }
 },
 "nbformat": 4,
 "nbformat_minor": 2
}
