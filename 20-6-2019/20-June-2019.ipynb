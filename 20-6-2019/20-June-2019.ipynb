{
 "cells": [
  {
   "cell_type": "markdown",
   "metadata": {},
   "source": [
    "# Day Objective\n",
    "\n",
    "## Regular Expressions\n",
    "- Constructing Regular Expressions for various use cases\n",
    "- Regular Expressions Module and related in python\n",
    "- Improving the application with name and phone number validation\n",
    "\n",
    "## File Handling\n",
    "- Text Files\n",
    "- Upgrading the Contacts Application to store contact information in a text file"
   ]
  },
  {
   "cell_type": "markdown",
   "metadata": {},
   "source": [
    "#### Regular Expressions\n",
    "\n",
    "- Pattern Matching\n",
    "- Symbolic Notation of a pattern\n",
    "    - Pattern : Format which repeats\n",
    "    - Pattern(RE) represents The set of all values that match a pattern\n",
    "- [0-9] -> Any digit\n",
    "- [a-z] -> Any lower case alphabet\n",
    "- [2468] -> All single digit multiples of 2\n",
    "- ^[0-9]{1}$ Only single digit numbers\n",
    "\n",
    "- ^[0-9]{3}$  Only 3 digit numbers\n",
    "\n",
    "- [0-9]*0$  -> All multiples of 10\n",
    "\n",
    "- ^([1-9][0-9]*[05])$|^([5])$  -> All multiples of 5\n",
    "\n",
    "-      -> All 10 digit numbers\n",
    "\n",
    "- [w][o][r][d] or (word)   -> Searching for a 'word'\n",
    "\n",
    "-  ^[6-9][0-9]{9}$|^[0][6-9][0-9]{9}|^[+][9][1][6-9][0-9]{9}$    -> Validating Phone number(India)(start with 9876 followed by 9 digits)\n",
    "\n",
    "-  ^[0-9a-z][0-9a-z_.]{4,13}[0-9a-z][@][a-z0-9]{3,18}[.][a-z]{2,4}$    -> Email Validation( username@domain.extension )\n",
    "    - username\n",
    "        - Length of username : [6,15]\n",
    "        - No special characters other than _ .\n",
    "        - Should not begin and end with _ .\n",
    "        - Character Set : all digits and lower case alphabet _.\n",
    "    - domain\n",
    "        - Length of domain : [3, 18]\n",
    "        - No special characters\n",
    "        - Character Set : all digits and lower case alphabet\n",
    "    - extension\n",
    "        - Length of extension : [2, 4]\n",
    "        - No special characters\n",
    "        - Character Set : lower case alphabet\n",
    "- ^[a]...[z]$-> Any string of length 5 that starts with 'a' and ends with 'z'\n",
    "- ^[a].*[z]$ -> Any string of any length that starts with 'a' and ends with 'z'"
   ]
  },
  {
   "cell_type": "code",
   "execution_count": 6,
   "metadata": {},
   "outputs": [
    {
     "name": "stdout",
     "output_type": "stream",
     "text": [
      "validnumber\n"
     ]
    }
   ],
   "source": [
    "# Function to validate a phone number\n",
    "\n",
    "import re\n",
    "\n",
    "def PhoneNumberValidator(number):\n",
    "    #pattern='^[6-9][0-9]{9}$'\n",
    "    pattern= '^[6-9][0-9]{9}$|^[0][6-9][0-9]{9}|^[+][9][1]{9}$'\n",
    "    pattern=\"^[0-9a-z][0-9a-z_.]{4,13}[0-9a-z][@][a-z0-9]{3,18}[.][a-z]{2,4}$\"\n",
    "    if re.match(pattern,str(number)):\n",
    "        return True\n",
    "    return False\n",
    "#PhoneNumberValidator(7702483004)\n",
    "def emailvalidator(email):\n",
    "    pattern=\"^[a-zA-Z0-9._]+@[a-z].+[.com]$\"\n",
    "    if re.match(pattern,email):\n",
    "        return True\n",
    "    return False\n"
   ]
  },
  {
   "cell_type": "code",
   "execution_count": 3,
   "metadata": {},
   "outputs": [
    {
     "name": "stdout",
     "output_type": "stream",
     "text": [
      "nani already exists..!\n"
     ]
    }
   ],
   "source": [
    "contacts={'Satyanarayana':[7702483004, 'satyanarayana.mn@apssdc.in'],'sai':[8919066749, 'sai.p@apssdc.in'],'nani':[89190667, 'polineni.p@apssdc.in']}\n",
    "def addcontact(name,phone,email):\n",
    "    # verify that the contact doesnnot already exit\n",
    "    if name in contacts:\n",
    "        print(name,'already exists..!')\n",
    "    else:\n",
    "        if not PhoneNumberValidator(phone):\n",
    "            print('phone number is invalid')\n",
    "            return\n",
    "        if not emailvalidator(email):\n",
    "            print('email is invalid')\n",
    "            return\n",
    "        newcontact=[]\n",
    "        newcontact.append(phone)\n",
    "        newcontact.append(email)\n",
    "        contacts[name]=newcontact\n",
    "        print(name,'added successfully..!')\n",
    "        return\n",
    "addcontact('nani',89190667,'nani.p@apssdc.in')"
   ]
  },
  {
   "cell_type": "code",
   "execution_count": 4,
   "metadata": {},
   "outputs": [
    {
     "data": {
      "text/plain": [
       "{'Satyanarayana': [7702483004, 'satyanarayana.mn@apssdc.in'],\n",
       " 'sai': [8919066749, 'sai.p@apssdc.in'],\n",
       " 'nani': [89190667, 'polineni.p@apssdc.in']}"
      ]
     },
     "execution_count": 4,
     "metadata": {},
     "output_type": "execute_result"
    }
   ],
   "source": [
    "contacts"
   ]
  },
  {
   "cell_type": "code",
   "execution_count": 5,
   "metadata": {},
   "outputs": [
    {
     "name": "stdout",
     "output_type": "stream",
     "text": [
      "Anil does not exit\n"
     ]
    }
   ],
   "source": [
    "def searchcontacts(name):\n",
    "    if name in contacts:\n",
    "        print(name)\n",
    "        print('phone:',contacts[name][0])\n",
    "        print('email:',contacts[name][1])\n",
    "    else:\n",
    "        print('%s does not exit'%name)\n",
    "    return\n",
    "searchcontacts('Anil')\n",
    "        "
   ]
  },
  {
   "cell_type": "code",
   "execution_count": 56,
   "metadata": {},
   "outputs": [
    {
     "name": "stdout",
     "output_type": "stream",
     "text": [
      "1 added successfully\n"
     ]
    }
   ],
   "source": [
    "def importcontacts(newcontacts):\n",
    "    contacts.update(newcontacts)\n",
    "    print(len(newcontacts.keys()),'added successfully')\n",
    "    return\n",
    "\n",
    "newcontacts={'hello':[23664264276278,'hello@gmail.com']}\n",
    "importcontacts(newcontacts)"
   ]
  },
  {
   "cell_type": "code",
   "execution_count": 6,
   "metadata": {},
   "outputs": [
    {
     "data": {
      "text/plain": [
       "{'Satyanarayana': [7702483004, 'satyanarayana.mn@apssdc.in'],\n",
       " 'sai': [8919066749, 'sai.p@apssdc.in'],\n",
       " 'nani': [89190667, 'polineni.p@apssdc.in']}"
      ]
     },
     "execution_count": 6,
     "metadata": {},
     "output_type": "execute_result"
    }
   ],
   "source": [
    "contacts"
   ]
  },
  {
   "cell_type": "code",
   "execution_count": 7,
   "metadata": {},
   "outputs": [
    {
     "name": "stdout",
     "output_type": "stream",
     "text": [
      "Satyanarayana \n",
      " phone: 7702483004 \n",
      " email: satyanarayana.mn@apssdc.in\n",
      "sai \n",
      " phone: 8919066749 \n",
      " email: sai.p@apssdc.in\n",
      "nani \n",
      " phone: 89190667 \n",
      " email: polineni.p@apssdc.in\n"
     ]
    }
   ],
   "source": [
    "def allcontacts():\n",
    "    for contact,info in contacts.items():\n",
    "        print(contact,'\\n','phone:',info[0],'\\n','email:',info[1])\n",
    "    return\n",
    "allcontacts()"
   ]
  },
  {
   "cell_type": "markdown",
   "metadata": {},
   "source": [
    "# File Handling in Python\n",
    "- File - Document containting information residing in local machine or permnani storage\n",
    "- Types- Text,PDF,CSV---etc\n",
    "* File I/O - Channelling I/O data to files\n",
    "* Default I/O Channels - Keyboard / Screen\n",
    "* ChangeI/O Channel to files for Reading and writing\n",
    "* Read a file - Input from file\n",
    "* Write to a file -OutPut to a file\n",
    "* Read/Write file - open(fine name,mode)"
   ]
  },
  {
   "cell_type": "code",
   "execution_count": 12,
   "metadata": {},
   "outputs": [
    {
     "name": "stdout",
     "output_type": "stream",
     "text": [
      "Hello Good Evening\n",
      "welcome To iitcollege"
     ]
    }
   ],
   "source": [
    "# Function to read a file\n",
    "def readfile(filename):\n",
    "    f=open(filename,'r')\n",
    "    filedata=f.read()\n",
    "    f.close()\n",
    "    return filedata\n",
    "\n",
    "filename='data.txt'   \n",
    "#for line in readfile(filename).split('\\n'):\n",
    "    #print(line)\n",
    "\n",
    "def printfilelines(filename):\n",
    "    f=open(filename,'r')\n",
    "    for line in f:\n",
    "        print(line,end='')\n",
    "    return\n",
    "printfilelines(filename)"
   ]
  },
  {
   "cell_type": "markdown",
   "metadata": {},
   "source": [
    "# Write File"
   ]
  },
  {
   "cell_type": "code",
   "execution_count": 13,
   "metadata": {},
   "outputs": [],
   "source": [
    "# Function to write data into a file\n",
    "def writefile(filename,filedata):\n",
    "    with open(filename,'w') as f:\n",
    "        f.write(filedata)\n",
    "    return\n",
    "filename='data.txt'\n",
    "writefile(filename,'Hello Good Evening')"
   ]
  },
  {
   "cell_type": "code",
   "execution_count": 11,
   "metadata": {},
   "outputs": [],
   "source": [
    "# Function to Append data into a file\n",
    "def appendfile(filename,filedata):\n",
    "    with open(filename,'a') as f:\n",
    "        f.write(filedata)\n",
    "    return\n",
    "filedata='\\nwelcome To iitcollege'\n",
    "appendfile(filename,filedata)"
   ]
  },
  {
   "cell_type": "code",
   "execution_count": 16,
   "metadata": {},
   "outputs": [
    {
     "name": "stdout",
     "output_type": "stream",
     "text": [
      "satyanarayana\n",
      "9988776655\n",
      "satyanarayana.mn@apssdc.in\n"
     ]
    }
   ],
   "source": [
    "name=input()\n",
    "phone=input()\n",
    "email=input()\n",
    "def concact(filename,name,phone,email):\n",
    "    f=open('contacts.txt','a')\n",
    "    line=f.write(name+'\\t'+phone+'\\t'+email)\n",
    "    return\n",
    "filename='DataFiles/contacts.txt'\n",
    "concact(filename,name,phone,email)\n",
    "\n"
   ]
  }
 ],
 "metadata": {
  "kernelspec": {
   "display_name": "Python 3",
   "language": "python",
   "name": "python3"
  },
  "language_info": {
   "codemirror_mode": {
    "name": "ipython",
    "version": 3
   },
   "file_extension": ".py",
   "mimetype": "text/x-python",
   "name": "python",
   "nbconvert_exporter": "python",
   "pygments_lexer": "ipython3",
   "version": "3.7.3"
  }
 },
 "nbformat": 4,
 "nbformat_minor": 2
}
