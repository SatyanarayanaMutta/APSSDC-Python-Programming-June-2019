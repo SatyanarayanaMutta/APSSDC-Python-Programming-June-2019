{
 "cells": [
  {
   "cell_type": "markdown",
   "metadata": {},
   "source": [
    "# Date : 20 June 2019\n",
    "## Day Objectives\n",
    "- Regular Expressions\n",
    "    - Constructing Regular Expressions for various use cases\n",
    "    - Regular Expressions Module and related in Python\n",
    "    - Improving the Contacts application with name and phone number validation using regular expressions\n",
    "- File Handling\n",
    "    - Text Files\n",
    "    - Upgrading the Contacts Application to store contact information in a text file"
   ]
  },
  {
   "cell_type": "markdown",
   "metadata": {},
   "source": [
    "# Regular Expressions\n",
    "- Pattern Matching\n",
    "- Symbolic Notation of a pattern\n",
    "    - Pattern : Format which repeats\n",
    "    - Pattern(RE) represents The set of all values that match a pattern\n",
    "- [0-9] -> Any digit\n",
    "- [a-z] -> Any lower case alphabet\n",
    "- [2468] -> All single digit multiples of 2\n",
    "- ^[0-9]{1}$ Only single digit numbers\n",
    "\n",
    "- ^[0-9]{3}$ Only 3 digit numbers\n",
    "\n",
    "- [0-9]*0$ -> All multiples of 10\n",
    "\n",
    "- ^([1-9][0-9]*[05])$|^([5])$ -> All multiples of 5\n",
    "\n",
    "- -> All 10 digit numbers\n",
    "\n",
    "- [w][o][r][d] or (word) -> Searching for a 'word'\n",
    "\n",
    "- ^[6-9][0-9]{9}$|^[0][6-9][0-9]{9}|^[+][9][1][6-9][0-9]{9}$ -> Validating Phone number(India)(start with 9876 followed by 9 digits)\n",
    "\n",
    "- -> Email Validation( username@domain.extension )\n",
    "\n"
   ]
  },
  {
   "cell_type": "code",
   "execution_count": null,
   "metadata": {},
   "outputs": [],
   "source": []
  }
 ],
 "metadata": {
  "kernelspec": {
   "display_name": "Python 3",
   "language": "python",
   "name": "python3"
  },
  "language_info": {
   "codemirror_mode": {
    "name": "ipython",
    "version": 3
   },
   "file_extension": ".py",
   "mimetype": "text/x-python",
   "name": "python",
   "nbconvert_exporter": "python",
   "pygments_lexer": "ipython3",
   "version": "3.7.3"
  }
 },
 "nbformat": 4,
 "nbformat_minor": 2
}
