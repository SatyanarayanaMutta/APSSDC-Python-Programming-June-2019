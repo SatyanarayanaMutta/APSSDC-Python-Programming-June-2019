{
 "cells": [
  {
   "cell_type": "markdown",
   "metadata": {},
   "source": [
    "###The Largest Heading\n",
    "* **This is bold text**\n",
    "* *Italic*\n",
    "* Normal Text\n",
    "    * Sublist 1\n",
    "    * Sublist 2\n",
    "    \n",
    "    \n",
    "1. Ordered list element 1\n",
    "2. Ordered list element 2\n",
    "\n",
    "\n",
    "- [ ]  Task 1\n",
    "- [ ] Task 2\n",
    "- [x] Task 3\n",
    "\n",
    "[Jupyter logo](../jupyter_logo.png)\n",
    "\n",
    "![Jupyter Logo](jupyter_logo1.png)\n",
    "\n",
    "<img src=\"jupyter_logo1.png\" style=\"float:left\" >\n",
    "<img src=\"jupyter_logo1.png\" style=\"float:center\" >\n",
    "<img src=\"jupyter_logo1.png\" style=\"float:right\" >\n",
    "<br>\n",
    "<br>\n",
    "<br>\n",
    "\n",
    "\n",
    "\n",
    "\n",
    "I get 10 times more traffic from [Google]  than from\n",
    "[Yahoo] or [Bing] .\n",
    "\n",
    "  [Google]: http://google.com/        \"Google\"\n",
    "  [Yahoo]: http://search.yahoo.com/  \"Yahoo Search\"\n",
    "  [Bing]: http://search.msn.com/    \"MSN Search\"\n",
    "\n",
    "\n",
    "\n",
    "printf(\"Hello world\")\n",
    "\n",
    "<\"www.google.com\">"
   ]
  },
  {
   "cell_type": "markdown",
   "metadata": {},
   "source": [
    "### Python Basics\n",
    "\n",
    "\n",
    "Python version 3.7"
   ]
  },
  {
   "cell_type": "code",
   "execution_count": 37,
   "metadata": {
    "scrolled": true
   },
   "outputs": [
    {
     "name": "stdout",
     "output_type": "stream",
     "text": [
      "Enter symbol u want? -> \n",
      "Good Afternoon !  to-> Hello world\n",
      "Good Afternoon (^!^) ! (^!^)  to\n",
      "12344 12344 12344 12344 12344 12344\n"
     ]
    }
   ],
   "source": [
    "# Python single line comment\n",
    "print('Good Afternoon','!',' to',end=input(\"Enter symbol u want? \"))#baisc output\n",
    "print('Hello world')\n",
    "print('Good Afternoon','!',' to',sep=' (^!^) ')#baisc output\n",
    "\n",
    "### Assignment\n",
    "\n",
    "a=12344 #single variable assignment\n",
    "b=c=d=e=f=a #multi variable assignemnt at a time\n",
    "print(a,b,c,d,e,f)\n"
   ]
  },
  {
   "cell_type": "markdown",
   "metadata": {},
   "source": [
    "## Data Types\n",
    "- int\n",
    "- float\n",
    "- string\n",
    "- double"
   ]
  },
  {
   "cell_type": "code",
   "execution_count": 41,
   "metadata": {},
   "outputs": [
    {
     "name": "stdout",
     "output_type": "stream",
     "text": [
      "<class 'int'>\n",
      "<class 'str'>\n",
      "<class 'float'>\n",
      "123.43\n",
      "123.43\n"
     ]
    },
    {
     "ename": "OverflowError",
     "evalue": "(34, 'Result too large')",
     "output_type": "error",
     "traceback": [
      "\u001b[1;31m---------------------------------------------------------------------------\u001b[0m",
      "\u001b[1;31mOverflowError\u001b[0m                             Traceback (most recent call last)",
      "\u001b[1;32m<ipython-input-41-08e74a30ba39>\u001b[0m in \u001b[0;36m<module>\u001b[1;34m\u001b[0m\n\u001b[0;32m      8\u001b[0m \u001b[0mprint\u001b[0m\u001b[1;33m(\u001b[0m\u001b[0mfloat\u001b[0m\u001b[1;33m(\u001b[0m\u001b[0mstr\u001b[0m\u001b[1;33m(\u001b[0m\u001b[0mf1\u001b[0m\u001b[1;33m)\u001b[0m\u001b[1;33m)\u001b[0m\u001b[1;33m)\u001b[0m\u001b[1;33m\u001b[0m\u001b[1;33m\u001b[0m\u001b[0m\n\u001b[0;32m      9\u001b[0m \u001b[1;33m\u001b[0m\u001b[0m\n\u001b[1;32m---> 10\u001b[1;33m \u001b[1;36m12.3444\u001b[0m \u001b[1;33m**\u001b[0m \u001b[1;36m999\u001b[0m \u001b[1;31m#overflow error\u001b[0m\u001b[1;33m\u001b[0m\u001b[1;33m\u001b[0m\u001b[0m\n\u001b[0m",
      "\u001b[1;31mOverflowError\u001b[0m: (34, 'Result too large')"
     ]
    }
   ],
   "source": [
    "print(type(a))\n",
    "s1 = 'python'\n",
    "print(type(s1))\n",
    "\n",
    "f1=123.43\n",
    "print(type(f1))\n",
    "print(str(f1))\n",
    "print(float(str(f1)))\n",
    "\n",
    "12.3444 ** 999 #overflow error "
   ]
  },
  {
   "cell_type": "markdown",
   "metadata": {},
   "source": [
    "### Assignment Operators\n",
    " - +\n",
    " - -\n",
    " - *\n",
    " - %\n",
    " - /\n",
    " - **\n",
    " - //\n",
    "\n",
    "a  % 11\n",
    "\n",
    "b = c ** 123456\n",
    "\n",
    "b\n",
    "#type(b)\n",
    "#len(str(b)\n",
    "\n",
    "print(10 ** 20)\n",
    "\n"
   ]
  },
  {
   "cell_type": "markdown",
   "metadata": {},
   "source": [
    "print('hi')"
   ]
  },
  {
   "cell_type": "code",
   "execution_count": 42,
   "metadata": {},
   "outputs": [
    {
     "name": "stdout",
     "output_type": "stream",
     "text": [
      "hi\n"
     ]
    }
   ],
   "source": [
    "print('hi')"
   ]
  },
  {
   "cell_type": "markdown",
   "metadata": {},
   "source": [
    "### Condition Statements"
   ]
  },
  {
   "cell_type": "code",
   "execution_count": 44,
   "metadata": {},
   "outputs": [
    {
     "name": "stdout",
     "output_type": "stream",
     "text": [
      "Enter number: 23\n",
      "odd\n"
     ]
    }
   ],
   "source": [
    "#if Condition\n",
    "if int(input(\"Enter number: \"))%2==0:\n",
    "    print(\"Even\")\n",
    "else:\n",
    "    print('odd')"
   ]
  },
  {
   "cell_type": "code",
   "execution_count": 48,
   "metadata": {},
   "outputs": [
    {
     "name": "stdout",
     "output_type": "stream",
     "text": [
      "Enter a number: 65\n",
      "Enter b number: 43\n",
      "Enter c number: 98\n",
      "c big\n"
     ]
    }
   ],
   "source": [
    "# Find the gretest of 3 numbers\n",
    "a,b,c=int(input(\"Enter a number: \")),int(input(\"Enter b number: \")),int(input(\"Enter c number: \"))\n",
    "if a>b and a>c:\n",
    "    print(\"a big\")\n",
    "elif b>c and b>c:\n",
    "    print(\"b big\")\n",
    "else:\n",
    "    print(\"c big\")"
   ]
  },
  {
   "cell_type": "code",
   "execution_count": 49,
   "metadata": {},
   "outputs": [
    {
     "ename": "SyntaxError",
     "evalue": "invalid syntax (<ipython-input-49-8fdfb23625ac>, line 2)",
     "output_type": "error",
     "traceback": [
      "\u001b[1;36m  File \u001b[1;32m\"<ipython-input-49-8fdfb23625ac>\"\u001b[1;36m, line \u001b[1;32m2\u001b[0m\n\u001b[1;33m    if 10 %\u001b[0m\n\u001b[1;37m           ^\u001b[0m\n\u001b[1;31mSyntaxError\u001b[0m\u001b[1;31m:\u001b[0m invalid syntax\n"
     ]
    }
   ],
   "source": [
    "# check if a number is a multiple of 10\n",
    "if 10 %\n"
   ]
  },
  {
   "cell_type": "code",
   "execution_count": 50,
   "metadata": {},
   "outputs": [
    {
     "name": "stdout",
     "output_type": "stream",
     "text": [
      "123456 is qual to 123456\n"
     ]
    }
   ],
   "source": [
    "# check if given string is equal to a number\n",
    "s1='123456'\n",
    "n1=123456\n",
    "if str(n1)==s1:\n",
    "    print(n1,\"is qual to\",s1)\n",
    "else:\n",
    "    print(n1,\"is not qual to\",s1)"
   ]
  },
  {
   "cell_type": "code",
   "execution_count": 51,
   "metadata": {},
   "outputs": [
    {
     "data": {
      "text/plain": [
       "11.090536506409418"
      ]
     },
     "execution_count": 51,
     "metadata": {},
     "output_type": "execute_result"
    }
   ],
   "source": [
    "# calculate the Square root of number\n",
    "n1=123\n",
    "n1**0.5\n"
   ]
  },
  {
   "cell_type": "code",
   "execution_count": 55,
   "metadata": {},
   "outputs": [
    {
     "name": "stdout",
     "output_type": "stream",
     "text": [
      "31622400000000000\n"
     ]
    }
   ],
   "source": [
    "# calculate the number of nano seconds in a \n",
    "# given year (considering leap year login)\n",
    "year=2016\n",
    "if year % 400 == 0 or(year %100!=0 and year%4==0):\n",
    "    print(366*24*60*60*(10**9))\n",
    "else:\n",
    "    print(365*24*60*60*(10**9))"
   ]
  },
  {
   "cell_type": "code",
   "execution_count": null,
   "metadata": {},
   "outputs": [],
   "source": []
  }
 ],
 "metadata": {
  "kernelspec": {
   "display_name": "Python 3",
   "language": "python",
   "name": "python3"
  },
  "language_info": {
   "codemirror_mode": {
    "name": "ipython",
    "version": 3
   },
   "file_extension": ".py",
   "mimetype": "text/x-python",
   "name": "python",
   "nbconvert_exporter": "python",
   "pygments_lexer": "ipython3",
   "version": "3.7.3"
  }
 },
 "nbformat": 4,
 "nbformat_minor": 2
}
