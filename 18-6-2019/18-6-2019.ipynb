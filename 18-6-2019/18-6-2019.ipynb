{
 "cells": [
  {
   "cell_type": "code",
   "execution_count": 1,
   "metadata": {},
   "outputs": [],
   "source": [
    "d1 = {\"k1\":\"value1\",\"k2\":\"value2\"}"
   ]
  },
  {
   "cell_type": "markdown",
   "metadata": {},
   "source": [
    "## Contacts Applications\n",
    "- Add Contact\n",
    "- Search for contact\n",
    "- List all contacts\n",
    "- Modify contact\n",
    "- Remove Contact"
   ]
  },
  {
   "cell_type": "code",
   "execution_count": 2,
   "metadata": {},
   "outputs": [],
   "source": [
    "contacts={\"satya\":76637733838}"
   ]
  },
  {
   "cell_type": "code",
   "execution_count": 3,
   "metadata": {},
   "outputs": [
    {
     "name": "stdout",
     "output_type": "stream",
     "text": [
      "{'satya': 76637733838}\n",
      "1\n",
      "satya\n",
      "4355363663\n",
      "{'satya': 76637733838}\n",
      "{'satya': [76637733838, 4355363663]}\n"
     ]
    }
   ],
   "source": [
    "#contacts={}\n",
    "\n",
    "def addContact(name,phone,option=False):\n",
    "    #Verify contact is already exist or not\n",
    "    print(contacts)\n",
    "    if option==False:\n",
    "        if name not in contacts:\n",
    "            contacts[name]=phone\n",
    "            print(\"%s Contact Created Sucessfully.\"% name)\n",
    "    elif option==True:\n",
    "        if name in contacts:\n",
    "            contact1=contacts[name]\n",
    "            contacts[name]=[contact1,phone]\n",
    "    else:\n",
    "        print(\"%s is Already Exist in contacts so Give second Contact or create New Name.\"% name)\n",
    "    return\n",
    "\n",
    "def searchContact(name):\n",
    "    #    global contacts \n",
    "    print(contacts)\n",
    "    if name not in contacts: \n",
    "        print(\"No contact Found\")\n",
    "    else:\n",
    "        print(name,\"->\",contacts[name])\n",
    "    return\n",
    "\n",
    "def deleteContact(name):\n",
    "    if name not in contacts:\n",
    "        print(name,\"Contact not found\")\n",
    "    else:\n",
    "        contacts.pop(name)\n",
    "        print(\"%s Contact Deleted sucessfully.\"%name)\n",
    "    return\n",
    "\n",
    "def modifyContact(name,phone):\n",
    "    if name not in contacts:\n",
    "        print(name,\"contact Not Found\")\n",
    "    else:\n",
    "        contacts[name]=phone\n",
    "print(contacts)\n",
    "for i in range(int(input())):\n",
    "    addContact(input(),int(input()),True)\n",
    "#addContact(\"satya\",7951313898)\n",
    "'''\n",
    "searchContact(\"Narayana\")\n",
    "\n",
    "modifyContact(\"Narayana\",7865432165)\n",
    "deleteContact(\"Narayana\")\n",
    "'''\n",
    "print(contacts)"
   ]
  },
  {
   "cell_type": "code",
   "execution_count": 44,
   "metadata": {},
   "outputs": [
    {
     "name": "stdout",
     "output_type": "stream",
     "text": [
      "2 added Sucessfully\n",
      "{'Narayana': 9951313898, 'name2': 8976543265, 'name3': 9987766553, 'new2': inf}\n"
     ]
    }
   ],
   "source": [
    "#\n",
    "def importContacts(newContacts):\n",
    "    contacts.update(newContacts)\n",
    "    print(len(newContacts.keys()),\"added Sucessfully\")\n",
    "    return \n",
    "newContacts={\"name2\":8976543265,\"name3\":9987766553}\n",
    "importContacts(newContacts)\n",
    "print(contacts)"
   ]
  },
  {
   "cell_type": "markdown",
   "metadata": {},
   "source": [
    "### Packages & Modules\n",
    "** Package** -> Collection of Modules(Python File.py)\n",
    "\n",
    "** Sub Package** -> A Single python file contating function\n",
    "Package -> Subpackage -> Modules -> Function\n"
   ]
  },
  {
   "cell_type": "code",
   "execution_count": 15,
   "metadata": {},
   "outputs": [
    {
     "data": {
      "text/plain": [
       "3.141592653589793"
      ]
     },
     "execution_count": 15,
     "metadata": {},
     "output_type": "execute_result"
    }
   ],
   "source": [
    "from math import floor as f,pi as p\n",
    "\n",
    "f(123.457)\n",
    "pi"
   ]
  },
  {
   "cell_type": "code",
   "execution_count": 17,
   "metadata": {},
   "outputs": [
    {
     "name": "stdout",
     "output_type": "stream",
     "text": [
      "11 0 20 19 70 90 71 83 52 56 "
     ]
    }
   ],
   "source": [
    "# Function to genarate random number using random module\n",
    "import random\n",
    "def genarateNrandomNumber(n,lb,ub):\n",
    "    for i in range(0,n):\n",
    "        print(random.randint(lb,ub),end=\" \")\n",
    "genarateNrandomNumber(10,0,100)"
   ]
  },
  {
   "cell_type": "code",
   "execution_count": 1,
   "metadata": {},
   "outputs": [
    {
     "name": "stdout",
     "output_type": "stream",
     "text": [
      "180\n",
      "3\n",
      "640 480\n",
      "CROP IT\n",
      "120 300\n",
      "UPLOAD ANOTHER\n",
      "180 180\n",
      "ACCEPTED\n"
     ]
    }
   ],
   "source": [
    "# Royal Picture Profile [From Hackerearth]\n",
    "def checkDimentions(fixed,a,b):\n",
    "    if (a == b) and fixed == a:\n",
    "        return \"ACCEPTED\"\n",
    "    elif fixed<a and fixed<b:\n",
    "        return \"CROP IT\"\n",
    "    else:\n",
    "        return \"UPLOAD ANOTHER\"\n",
    "\n",
    "f=int(input())\n",
    "for i in range(int(input())):\n",
    "    t=[int(x) for x in input().split()][:2]\n",
    "    print(checkDimentions(f,t[0],t[1]))"
   ]
  },
  {
   "cell_type": "code",
   "execution_count": 2,
   "metadata": {},
   "outputs": [
    {
     "name": "stdout",
     "output_type": "stream",
     "text": [
      "3\n",
      "sumit mitsu\n",
      "YES\n",
      "ambuj jumba\n",
      "YES\n",
      "abhi hibb\n",
      "NO\n"
     ]
    }
   ],
   "source": [
    "# Two Strings from Hackerearth\n",
    "def matchString(a,b):\n",
    "    n=\"YES\"\n",
    "    if len(a)==len(b):\n",
    "        for char in a:\n",
    "            if a.count(char)!=b.count(char):\n",
    "                n=\"NO\"\n",
    "    return n\n",
    "\n",
    "n=int(input())\n",
    "for j in range(n):\n",
    "    m,n=input().split()[:2]\n",
    "    print(matchString(m,n))"
   ]
  },
  {
   "cell_type": "code",
   "execution_count": 5,
   "metadata": {},
   "outputs": [
    {
     "name": "stdout",
     "output_type": "stream",
     "text": [
      "43545465 4\n",
      "99995465\n"
     ]
    }
   ],
   "source": [
    "# Digit Problem from Hackerearth\n",
    "value,count = [int(x) for x in input().split()][:2]\n",
    "value=list(str(value))\n",
    "value1=[int(9) for x in range(count)]\n",
    "value2=[int(x) for x in value[count:]]\n",
    "value=''\n",
    "for i in value1+value2:\n",
    "    value+=str(i)\n",
    "print(int(value))"
   ]
  },
  {
   "cell_type": "code",
   "execution_count": 1,
   "metadata": {},
   "outputs": [
    {
     "name": "stdout",
     "output_type": "stream",
     "text": [
      "1\n",
      "9 6\n",
      "4\n",
      "1 0\n",
      "1 1\n",
      "1 0\n",
      "0 1\n",
      "39\n"
     ]
    }
   ],
   "source": [
    "# Cost of Ballowns from Hackerearth\n",
    "count=2\n",
    "for i in range(int(input())):\n",
    "    v1,v2 = [int(x) for x in input().split()][:2]\n",
    "    if count % 2 == 0:\n",
    "        v1,v2 = v1,v2\n",
    "    else:\n",
    "        v1, v2 = v2,v1\n",
    "        \n",
    "    sum = 0\n",
    "    for x in range(int(input())):\n",
    "        t1,t2 = [int(x) for x in input().split()][:2]\n",
    "        if t1 == 1 and t2 == 1:\n",
    "            sum += v1 + v2\n",
    "        elif t1 == 1 and t2 == 0:\n",
    "            sum += v1\n",
    "        elif t1 == 0 and t2 == 1:\n",
    "            sum += v2\n",
    "        elif t1 == 0 and t2 == 0:\n",
    "            continue\n",
    "        else:\n",
    "            continue\n",
    "    v1,v2=0,0\n",
    "    print(sum)\n",
    "    sum=0\n",
    "    count+=1"
   ]
  },
  {
   "cell_type": "code",
   "execution_count": 1,
   "metadata": {},
   "outputs": [
    {
     "name": "stdout",
     "output_type": "stream",
     "text": [
      "LLRDDR\n",
      "0 -2\n"
     ]
    }
   ],
   "source": [
    "# e-maze-in Problem from Hackerearth\n",
    "x,y=0,0\n",
    "for direction in input():\n",
    "    if direction == 'L':\n",
    "        x-=1\n",
    "    elif direction == 'R':\n",
    "        x+=1\n",
    "    elif direction == 'D':\n",
    "        y-=1\n",
    "    elif direction == 'U':\n",
    "        y+=1\n",
    "print(x,y)"
   ]
  },
  {
   "cell_type": "code",
   "execution_count": 1,
   "metadata": {},
   "outputs": [
    {
     "name": "stdout",
     "output_type": "stream",
     "text": [
      "2\n",
      "3\n",
      "A\n",
      "5\n",
      "A\n"
     ]
    }
   ],
   "source": [
    "# Lift Queries Program from Hackerearth\n",
    "def whichLift():\n",
    "    a,b=0,7\n",
    "    for i in range(int(input())):\n",
    "        \n",
    "        t=int(input())\n",
    "        t=t if t>=0 and t<=7 else print(\"Enter N position b/w 0 to 7 only\")\n",
    "        if t != None:\n",
    "            la,lb=abs(a-t),b-t\n",
    "            if la<=lb:\n",
    "                a=t\n",
    "                print(\"A\")\n",
    "            elif la>=lb:\n",
    "                b=t\n",
    "                print(\"B\")\n",
    "\n",
    "whichLift()"
   ]
  },
  {
   "cell_type": "code",
   "execution_count": 1,
   "metadata": {},
   "outputs": [
    {
     "name": "stdout",
     "output_type": "stream",
     "text": [
      "1\n",
      "1\n",
      "3\n",
      "3\n",
      "42\n"
     ]
    }
   ],
   "source": [
    "# Life, the Universe, and Everything Problem from Hackerearth\n",
    "while 1:\n",
    "    n=int(input())\n",
    "    if n==42:\n",
    "        \n",
    "            break\n",
    "    else:\n",
    "        print(n)"
   ]
  },
  {
   "cell_type": "code",
   "execution_count": null,
   "metadata": {},
   "outputs": [],
   "source": [
    "# Goki and his breakup Problem from Hackerearth\n",
    "n= int(input())\n",
    "v = int(input())\n",
    "for i in range(n):\n",
    "    if v<=int(input()):\n",
    "        print(\"YES\")\n",
    "    else:\n",
    "        print(\"NO\")"
   ]
  },
  {
   "cell_type": "code",
   "execution_count": 1,
   "metadata": {},
   "outputs": [
    {
     "name": "stdout",
     "output_type": "stream",
     "text": [
      "12X345-67\n",
      "invalid\n"
     ]
    }
   ],
   "source": [
    "# Ali and Helping innocent people Problem from Hackerearth\n",
    "def checkisValidTruck(v):\n",
    "    if len(v)==9:\n",
    "        if v[2].isupper() and v[-3] == '-':\n",
    "            if (int(v[0])+int(v[0])%2 == 0) and (int(v[-1])+int(v[-2])%2 == 0) and (int(v[3])+int(v[4])%2 == 0):\n",
    "                return \"valid\"\n",
    "    return \"invalid\"\n",
    "\n",
    "print(checkisValidTruck(input()))\n"
   ]
  },
  {
   "cell_type": "code",
   "execution_count": 2,
   "metadata": {},
   "outputs": [
    {
     "name": "stdout",
     "output_type": "stream",
     "text": [
      "13\n",
      "Motu\n"
     ]
    }
   ],
   "source": [
    "# Bricks Game Proble from Hackerearth\n",
    "t = int(input())\n",
    "sum=0\n",
    "for i in range(t//2):\n",
    "    a=i+i\n",
    "    t-=a+i\n",
    "    if t<0:\n",
    "        break\n",
    "#print(i)\n",
    "if i%2==0:\n",
    "    print(\"Patlu\")\n",
    "    \n",
    "else:\n",
    "    print(\"Motu\")\n",
    "    "
   ]
  },
  {
   "cell_type": "code",
   "execution_count": 3,
   "metadata": {},
   "outputs": [
    {
     "name": "stdout",
     "output_type": "stream",
     "text": [
      "5\n",
      "*   *\n",
      "*   *\n",
      "*****\n",
      "*   *\n",
      "*   *\n",
      "*****\n",
      "*   *\n",
      "*   *\n",
      "*****\n",
      "*   *\n",
      "*   *\n",
      "*****\n",
      "*   *\n",
      "*   *\n",
      "*****\n",
      "*   *\n",
      "*   *\n"
     ]
    }
   ],
   "source": [
    "# Ladderophilia Proble from Hackerearth\n",
    "def ladderophilia(n):\n",
    "    print('*   *\\n',end='')\n",
    "    for i in range(n):\n",
    "        print('*   *\\n',end='')\n",
    "        print(5*'*')\n",
    "        print('*   *\\n',end='')\n",
    "    print('*   *\\n',end='')\n",
    "        \n",
    "ladderophilia(int(input()))"
   ]
  },
  {
   "cell_type": "code",
   "execution_count": 2,
   "metadata": {},
   "outputs": [
    {
     "name": "stdout",
     "output_type": "stream",
     "text": [
      "45656576\n",
      "44\n"
     ]
    }
   ],
   "source": [
    "# sum of Digits from 24-6-2019 Test\n",
    "print(sum([int(x) for x in input()]))\n"
   ]
  },
  {
   "cell_type": "code",
   "execution_count": 4,
   "metadata": {},
   "outputs": [
    {
     "name": "stdout",
     "output_type": "stream",
     "text": [
      "a11472ot6\n",
      "1 2 2 1 1 1 1 1 1 "
     ]
    }
   ],
   "source": [
    "# Frequency of Digits from 24-6-2019 Test\n",
    "a=input()\n",
    "for i in a:\n",
    "    print(a.count(str(i)),end=' ')"
   ]
  },
  {
   "cell_type": "code",
   "execution_count": 5,
   "metadata": {},
   "outputs": [
    {
     "name": "stdout",
     "output_type": "stream",
     "text": [
      "abc\n",
      "cde\n"
     ]
    },
    {
     "data": {
      "text/plain": [
       "True"
      ]
     },
     "execution_count": 5,
     "metadata": {},
     "output_type": "execute_result"
    }
   ],
   "source": [
    "def anagrams():\n",
    "    a= input()\n",
    "    b= input()\n",
    "    if (list(a).sort() == list(b).sort()) and len(a)==len(b):\n",
    "            return True\n",
    "    return False\n",
    "anagrams()            \n"
   ]
  },
  {
   "cell_type": "code",
   "execution_count": 21,
   "metadata": {},
   "outputs": [
    {
     "name": "stdout",
     "output_type": "stream",
     "text": [
      "aabbcc\n",
      "ccbbaaa\n",
      "{'a': 2, 'b': 2, 'c': 2}\n",
      "{'c': 2, 'b': 2, 'a': 3}\n",
      "{'c': 2, 'b': 2, 'a': 3}\n",
      "False\n"
     ]
    }
   ],
   "source": [
    "a= input()\n",
    "b= input()\n",
    "ad={}\n",
    "bd={}\n",
    "for i in a:\n",
    "    ad[i]=ad.get(i,0)+1\n",
    "for i in b:\n",
    "    bd[i]=bd.get(i,0)+1\n",
    "temp=True    \n",
    "print(ad)\n",
    "print(bd)\n",
    "sorted(bd)\n",
    "print(bd)\n",
    "for m in bd:\n",
    "    if ad[m]!=bd[m]:\n",
    "        #print(\"invalid\")\n",
    "        temp=False\n",
    "        break\n",
    "print(temp)\n",
    "        "
   ]
  },
  {
   "cell_type": "code",
   "execution_count": 22,
   "metadata": {},
   "outputs": [
    {
     "name": "stdout",
     "output_type": "stream",
     "text": [
      "{}\n",
      "{}\n"
     ]
    }
   ],
   "source": [
    "def charDeletionAnagrams(s1,s2):\n",
    "    s1=s2={}\n",
    "    uncommon=[]\n",
    "    for i in s1:\n",
    "        if i not in s2:\n",
    "            uncommon.append(i)\n",
    "    for i in s2:\n",
    "        if i not in s1:\n",
    "            uncommon.append(i)\n",
    "    count==len(uncommon)\n",
    "    freqs1=freqs2={}\n",
    "    uniqs1=uniqs2=[]\n",
    "    for i in s1:\n",
    "        if i not in uncommon and i not in uniqs1:\n",
    "            freqs1[i] = s1.count(i)\n",
    "            uniqs1.append(i)\n",
    "    for i in s2:\n",
    "        if i not in uncommon and i not in uniqs2:\n",
    "            freqs2[i] = s2.count(i)\n",
    "            uniqs2.append(i)\n",
    "    for key in freqs1.keys():\n",
    "        abs(freqs1[key]-freqs2[key])\n",
    "        "
   ]
  },
  {
   "cell_type": "code",
   "execution_count": null,
   "metadata": {},
   "outputs": [],
   "source": []
  }
 ],
 "metadata": {
  "kernelspec": {
   "display_name": "Python 3",
   "language": "python",
   "name": "python3"
  },
  "language_info": {
   "codemirror_mode": {
    "name": "ipython",
    "version": 3
   },
   "file_extension": ".py",
   "mimetype": "text/x-python",
   "name": "python",
   "nbconvert_exporter": "python",
   "pygments_lexer": "ipython3",
   "version": "3.7.3"
  }
 },
 "nbformat": 4,
 "nbformat_minor": 2
}
