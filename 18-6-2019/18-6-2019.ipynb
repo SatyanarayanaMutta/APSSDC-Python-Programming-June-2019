{
 "cells": [
  {
   "cell_type": "code",
   "execution_count": 1,
   "metadata": {},
   "outputs": [],
   "source": [
    "d1 = {\"k1\":\"value1\",\"k2\":\"value2\"}\n"
   ]
  },
  {
   "cell_type": "markdown",
   "metadata": {},
   "source": [
    "## Contacts Applications\n",
    "- Add Contact\n",
    "- Search for contact\n",
    "- List all contacts\n",
    "- Modify contact\n",
    "- Remove Contact"
   ]
  },
  {
   "cell_type": "code",
   "execution_count": 2,
   "metadata": {},
   "outputs": [],
   "source": [
    "contacts={\"satya\":76637733838}"
   ]
  },
  {
   "cell_type": "code",
   "execution_count": 3,
   "metadata": {},
   "outputs": [
    {
     "name": "stdout",
     "output_type": "stream",
     "text": [
      "{'satya': 76637733838}\n",
      "1\n",
      "satya\n",
      "4355363663\n",
      "{'satya': 76637733838}\n",
      "{'satya': [76637733838, 4355363663]}\n"
     ]
    }
   ],
   "source": [
    "#contacts={}\n",
    "\n",
    "def addContact(name,phone,option=False):\n",
    "    #Verify contact is already exist or not\n",
    "    print(contacts)\n",
    "    if option==False:\n",
    "        if name not in contacts:\n",
    "            contacts[name]=phone\n",
    "            print(\"%s Contact Created Sucessfully.\"% name)\n",
    "    elif option==True:\n",
    "        if name in contacts:\n",
    "            contact1=contacts[name]\n",
    "            contacts[name]=[contact1,phone]\n",
    "    else:\n",
    "        print(\"%s is Already Exist in contacts so Give second Contact or create New Name.\"% name)\n",
    "    return\n",
    "\n",
    "def searchContact(name):\n",
    "    #    global contacts \n",
    "    print(contacts)\n",
    "    if name not in contacts: \n",
    "        print(\"No contact Found\")\n",
    "    else:\n",
    "        print(name,\"->\",contacts[name])\n",
    "    return\n",
    "\n",
    "def deleteContact(name):\n",
    "    if name not in contacts:\n",
    "        print(name,\"Contact not found\")\n",
    "    else:\n",
    "        contacts.pop(name)\n",
    "        print(\"%s Contact Deleted sucessfully.\"%name)\n",
    "    return\n",
    "\n",
    "def modifyContact(name,phone):\n",
    "    if name not in contacts:\n",
    "        print(name,\"contact Not Found\")\n",
    "    else:\n",
    "        contacts[name]=phone\n",
    "print(contacts)\n",
    "for i in range(int(input())):\n",
    "    addContact(input(),int(input()),True)\n",
    "#addContact(\"satya\",7951313898)\n",
    "'''\n",
    "searchContact(\"Narayana\")\n",
    "\n",
    "modifyContact(\"Narayana\",7865432165)\n",
    "deleteContact(\"Narayana\")\n",
    "'''\n",
    "print(contacts)"
   ]
  },
  {
   "cell_type": "code",
   "execution_count": 44,
   "metadata": {},
   "outputs": [
    {
     "name": "stdout",
     "output_type": "stream",
     "text": [
      "2 added Sucessfully\n",
      "{'Narayana': 9951313898, 'name2': 8976543265, 'name3': 9987766553, 'new2': inf}\n"
     ]
    }
   ],
   "source": [
    "#\n",
    "def importContacts(newContacts):\n",
    "    contacts.update(newContacts)\n",
    "    print(len(newContacts.keys()),\"added Sucessfully\")\n",
    "    return \n",
    "newContacts={\"name2\":8976543265,\"name3\":9987766553}\n",
    "importContacts(newContacts)\n",
    "print(contacts)"
   ]
  },
  {
   "cell_type": "markdown",
   "metadata": {},
   "source": [
    "### Packages & Modules\n",
    "** Package** -> Collection of Modules(Python File.py)\n",
    "\n",
    "** Sub Package** -> A Single python file contating function\n",
    "Package -> Subpackage -> Modules -> Function\n"
   ]
  },
  {
   "cell_type": "code",
   "execution_count": 15,
   "metadata": {},
   "outputs": [
    {
     "data": {
      "text/plain": [
       "3.141592653589793"
      ]
     },
     "execution_count": 15,
     "metadata": {},
     "output_type": "execute_result"
    }
   ],
   "source": [
    "from math import floor as f,pi as p\n",
    "\n",
    "f(123.457)\n",
    "pi"
   ]
  },
  {
   "cell_type": "code",
   "execution_count": 17,
   "metadata": {},
   "outputs": [
    {
     "name": "stdout",
     "output_type": "stream",
     "text": [
      "11 0 20 19 70 90 71 83 52 56 "
     ]
    }
   ],
   "source": [
    "# Function to genarate random number using random module\n",
    "import random\n",
    "def genarateNrandomNumber(n,lb,ub):\n",
    "    for i in range(0,n):\n",
    "        print(random.randint(lb,ub),end=\" \")\n",
    "genarateNrandomNumber(10,0,100)"
   ]
  },
  {
   "cell_type": "code",
   "execution_count": 1,
   "metadata": {},
   "outputs": [
    {
     "name": "stdout",
     "output_type": "stream",
     "text": [
      "180\n",
      "3\n",
      "640 480\n",
      "CROP IT\n",
      "120 300\n",
      "UPLOAD ANOTHER\n",
      "180 180\n",
      "ACCEPTED\n"
     ]
    }
   ],
   "source": [
    "# Royal Picture Profile [From Hackerearth]\n",
    "def checkDimentions(fixed,a,b):\n",
    "    if (a == b) and fixed == a:\n",
    "        return \"ACCEPTED\"\n",
    "    elif fixed<a and fixed<b:\n",
    "        return \"CROP IT\"\n",
    "    else:\n",
    "        return \"UPLOAD ANOTHER\"\n",
    "\n",
    "f=int(input())\n",
    "for i in range(int(input())):\n",
    "    t=[int(x) for x in input().split()][:2]\n",
    "    print(checkDimentions(f,t[0],t[1]))"
   ]
  },
  {
   "cell_type": "code",
   "execution_count": 2,
   "metadata": {},
   "outputs": [
    {
     "name": "stdout",
     "output_type": "stream",
     "text": [
      "3\n",
      "sumit mitsu\n",
      "YES\n",
      "ambuj jumba\n",
      "YES\n",
      "abhi hibb\n",
      "NO\n"
     ]
    }
   ],
   "source": [
    "# Two Strings from Hackerearth\n",
    "def matchString(a,b):\n",
    "    n=\"YES\"\n",
    "    if len(a)==len(b):\n",
    "        for char in a:\n",
    "            if a.count(char)!=b.count(char):\n",
    "                n=\"NO\"\n",
    "        \n",
    "        \n",
    "    return n\n",
    "n=int(input())\n",
    "for j in range(n):\n",
    "    m,n=input().split()[:2]\n",
    "    print(matchString(m,n))"
   ]
  },
  {
   "cell_type": "code",
   "execution_count": 5,
   "metadata": {},
   "outputs": [
    {
     "name": "stdout",
     "output_type": "stream",
     "text": [
      "43545465 4\n",
      "99995465\n"
     ]
    }
   ],
   "source": [
    "# Digit Problem from Hackerearth\n",
    "value,count = [int(x) for x in input().split()][:2]\n",
    "value=list(str(value))\n",
    "value1=[int(9) for x in range(count)]\n",
    "value2=[int(x) for x in value[count:]]\n",
    "value=''\n",
    "for i in value1+value2:\n",
    "    value+=str(i)\n",
    "print(int(value))"
   ]
  },
  {
   "cell_type": "code",
   "execution_count": null,
   "metadata": {},
   "outputs": [],
   "source": []
  }
 ],
 "metadata": {
  "kernelspec": {
   "display_name": "Python 3",
   "language": "python",
   "name": "python3"
  },
  "language_info": {
   "codemirror_mode": {
    "name": "ipython",
    "version": 3
   },
   "file_extension": ".py",
   "mimetype": "text/x-python",
   "name": "python",
   "nbconvert_exporter": "python",
   "pygments_lexer": "ipython3",
   "version": "3.7.3"
  }
 },
 "nbformat": 4,
 "nbformat_minor": 2
}
