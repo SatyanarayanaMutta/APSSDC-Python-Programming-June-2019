{
 "cells": [
  {
   "cell_type": "markdown",
   "metadata": {},
   "source": [
    "#### Date : 22 June 2019\n",
    "\n",
    "#### Day Objectives\n",
    "- File Handling\n",
    "    - Basic File Data Processing\n",
    "        - Accessing and Modifying File Data\n",
    "    - Character Count\n",
    "    - Line Count\n",
    "    - File Size\n",
    "    - Word Count\n",
    "    - Unique Word Count "
   ]
  },
  {
   "cell_type": "code",
   "execution_count": 6,
   "metadata": {},
   "outputs": [
    {
     "name": "stdout",
     "output_type": "stream",
     "text": [
      "new data\n",
      "Line2\n",
      "Line3\n",
      "Line4\n",
      "Line5\n"
     ]
    }
   ],
   "source": [
    "# Read a File - File should exist(Read Mode)\n",
    "# Write to a File - Existing(append mode) or New File(Write mode)\n",
    "\n",
    "# Function to read entire file data into a single string - Character Processing\n",
    "def readFile(filepath):\n",
    "    with open(filepath, 'r') as f:\n",
    "        filedata = f.read() # Reads the entire file data into a string\n",
    "    return filedata\n",
    "\n",
    "filepath = 'DataFiles/data.txt'\n",
    "print(readFile(filepath))"
   ]
  },
  {
   "cell_type": "code",
   "execution_count": 7,
   "metadata": {},
   "outputs": [
    {
     "data": {
      "text/plain": [
       "['new data', 'Line2', 'Line3', 'Line4', 'Line5']"
      ]
     },
     "execution_count": 7,
     "metadata": {},
     "output_type": "execute_result"
    }
   ],
   "source": [
    "# Function to read a file into a list of lines\n",
    "# Each element in the list is one line in the file - Line Processing\n",
    "def readFileIntoList(filePath):\n",
    "    with open(filePath, 'r') as f:\n",
    "        filedata = f.read()\n",
    "        lines = filedata.split('\\n')\n",
    "        #lines = []\n",
    "        #for line in f: \n",
    "            #lines.append(line)\n",
    "    return lines\n",
    "\n",
    "filepath = 'DataFiles/data.txt'\n",
    "readFileIntoList(filepath)"
   ]
  },
  {
   "cell_type": "code",
   "execution_count": 8,
   "metadata": {},
   "outputs": [
    {
     "data": {
      "text/plain": [
       "5"
      ]
     },
     "execution_count": 8,
     "metadata": {},
     "output_type": "execute_result"
    }
   ],
   "source": [
    "# Function to count number of lines in a file\n",
    "\n",
    "def countLinesFile(filepath):\n",
    "    count = len(readFileIntoList(filepath))\n",
    "    return count\n",
    "\n",
    "countLinesFile(filepath)"
   ]
  },
  {
   "cell_type": "code",
   "execution_count": 9,
   "metadata": {},
   "outputs": [
    {
     "data": {
      "text/plain": [
       "32"
      ]
     },
     "execution_count": 9,
     "metadata": {},
     "output_type": "execute_result"
    }
   ],
   "source": [
    "#Function to count the number of characters in a file\n",
    "\n",
    "def charCountFile(filepath):\n",
    "    count = len(readFile(filepath))\n",
    "    return count\n",
    "charCountFile(filepath)"
   ]
  },
  {
   "cell_type": "code",
   "execution_count": 10,
   "metadata": {
    "scrolled": true
   },
   "outputs": [
    {
     "data": {
      "text/plain": [
       "['new', 'data', 'Line2', 'Line3', 'Line4', 'Line5']"
      ]
     },
     "execution_count": 10,
     "metadata": {},
     "output_type": "execute_result"
    }
   ],
   "source": [
    "# Function to count the number of words in a file\n",
    "import re\n",
    "\n",
    "def wordCountFile(filepath):\n",
    "    pattern = '[ \\n]'\n",
    "    filedata = readFile(filepath)\n",
    "    count = len(re.split(pattern, filedata))\n",
    "    return count\n",
    "\n",
    "def wordsFromFile(filepath):\n",
    "    pattern = '[ \\n./]'\n",
    "    filedata = readFile(filepath)\n",
    "    allWordsList = re.split(pattern, filedata)\n",
    "    return allWordsList\n",
    "\n",
    "wordsFromFile(filepath)"
   ]
  },
  {
   "cell_type": "code",
   "execution_count": 11,
   "metadata": {},
   "outputs": [
    {
     "data": {
      "text/plain": [
       "['new', 'data', 'Line2', 'Line3', 'Line4', 'Line5']"
      ]
     },
     "execution_count": 11,
     "metadata": {},
     "output_type": "execute_result"
    }
   ],
   "source": [
    "# Function to get unique elements in a list\n",
    "\n",
    "# [1,2,3,3,2,1] -> [1,2,3]\n",
    "# Create a empty unique list [1,2,3]\n",
    "\n",
    "def uniqueData(filepath):\n",
    "    # Create an empty unique list\n",
    "    allwords = wordsFromFile(filepath)\n",
    "    unique = []    \n",
    "    # For every element in the main list, \n",
    "        # check if it exists in the unique list.\n",
    "        # If it does not exist, add it to unique list\n",
    "        # else if it already exists, move on to the next element in the main list   \n",
    "    for element in allwords:\n",
    "        if element not in unique:\n",
    "            unique.append(element)\n",
    "    return unique\n",
    "\n",
    "#li = [1,2,3,3,2,1]\n",
    "\n",
    "uniqueData(filepath)\n"
   ]
  },
  {
   "cell_type": "code",
   "execution_count": 13,
   "metadata": {},
   "outputs": [
    {
     "data": {
      "text/plain": [
       "{'new': 1, 'data': 1, 'Line2': 1, 'Line3': 1, 'Line4': 1, 'Line5': 1}"
      ]
     },
     "execution_count": 13,
     "metadata": {},
     "output_type": "execute_result"
    }
   ],
   "source": [
    "# Function to print the frequency count of all words in a file\n",
    "# Frequency Distribution\n",
    "\n",
    "# Data in Line 1\n",
    "# Data in Line 2\n",
    "# Data in Line 3\n",
    "# O/P\n",
    "# Data : 3\n",
    "# in : 3\n",
    "# Line : 3\n",
    "# 1 : 1\n",
    "# 2 : 1\n",
    "# 3 : 1\n",
    "\n",
    "def FreqDistributionOfWords1(filepath):\n",
    "    # Dictionary to be used\n",
    "        # Keys -> unique words\n",
    "        # Values -> count of unique words\n",
    "        \n",
    "    # Two lists\n",
    "        # AllWords list - \n",
    "        # UniqueWords list - \n",
    "        \n",
    "    # Set\n",
    "    allwords = wordsFromFile(filepath)\n",
    "    uniquewords = uniqueData(filepath)\n",
    "    \n",
    "    for word in uniquewords:\n",
    "        count = allwords.count(word)\n",
    "        print(word,':',count)\n",
    "\n",
    "    return\n",
    "\n",
    "def FreqDistributionOfWords2(filepath):\n",
    "    allwords = wordsFromFile(filepath)\n",
    "    wordFrequency = {}\n",
    "    \n",
    "    for word in allwords:\n",
    "        if word not in wordFrequency.keys():\n",
    "            wordFrequency[word] = 1\n",
    "        else:\n",
    "            wordFrequency[word] += 1\n",
    "    return wordFrequency\n",
    "\n",
    "FreqDistributionOfWords2(filepath)"
   ]
  },
  {
   "cell_type": "code",
   "execution_count": 14,
   "metadata": {},
   "outputs": [],
   "source": [
    "#Contacts Application\n",
    "    # Add, Search, List, Modify Delete contacts\n",
    "\n",
    "# Find and Replace Application\n",
    "    # Count the total number of occurances of a word\n",
    "    # If word is existing\n",
    "    # Replace all occurances of a word with another word\n",
    "    \n",
    "# Marks Analysis Application\n",
    "    # Generate marks file for n students\n",
    "    # Input : Marks text file - each line contains marks of one student\n",
    "    # Generates a report with the following information\n",
    "        # Class Average\n",
    "        # % of students passed\n",
    "        # % of students failed \n",
    "        # % of students with distinction\n",
    "        # Highest Mark Frequency\n",
    "        # Lowest Mark Frequency\n",
    "        \n",
    "\n"
   ]
  },
  {
   "cell_type": "code",
   "execution_count": 2,
   "metadata": {},
   "outputs": [],
   "source": [
    "# Function to generate marks data for n students\n",
    "from random import randint\n",
    "\n",
    "def generateMarks(n, lb, ub):\n",
    "    with open('DataFiles/marks.txt', 'w') as f:\n",
    "        for i in range(0, n):\n",
    "            r = randint(lb, ub)\n",
    "            f.write(str(r) + '\\n')\n",
    "    return\n",
    "\n",
    "generateMarks(10000, 0, 100)"
   ]
  },
  {
   "cell_type": "code",
   "execution_count": null,
   "metadata": {},
   "outputs": [],
   "source": []
  }
 ],
 "metadata": {
  "kernelspec": {
   "display_name": "Python 3",
   "language": "python",
   "name": "python3"
  },
  "language_info": {
   "codemirror_mode": {
    "name": "ipython",
    "version": 3
   },
   "file_extension": ".py",
   "mimetype": "text/x-python",
   "name": "python",
   "nbconvert_exporter": "python",
   "pygments_lexer": "ipython3",
   "version": "3.7.3"
  }
 },
 "nbformat": 4,
 "nbformat_minor": 2
}
