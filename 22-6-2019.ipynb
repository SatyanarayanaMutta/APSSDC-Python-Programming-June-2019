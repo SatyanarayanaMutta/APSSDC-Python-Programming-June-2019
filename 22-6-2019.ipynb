{
 "cells": [
  {
   "cell_type": "markdown",
   "metadata": {},
   "source": [
    "### Day-> 22 June 2019\n",
    "\n",
    "### Day Objectives\n",
    "- File Handling\n",
    "    - Basic File Data Processing\n",
    "        - Accessing and Modifying File Data\n",
    "    - Character Count\n",
    "    - Line Count\n",
    "    - File Size\n",
    "    - Word Count\n",
    "    - Unique Word Count"
   ]
  },
  {
   "cell_type": "code",
   "execution_count": 1,
   "metadata": {},
   "outputs": [
    {
     "name": "stdout",
     "output_type": "stream",
     "text": [
      "new data\n",
      "Line2\n",
      "Line3\n",
      "Line4\n",
      "Line5\n"
     ]
    }
   ],
   "source": [
    "# Read a File - File should exist(Read Mode)\n",
    "# Write to a File - Existing(append mode) or New File(Write mode)\n",
    "\n",
    "def readFile(filePath):\n",
    "    with open(filePath, 'r') as f:\n",
    "        filedata = f.read()\n",
    "    return filedata\n",
    "\n",
    "filePath = 'DataFiles/data.txt'\n",
    "print(readFile(filePath))"
   ]
  },
  {
   "cell_type": "code",
   "execution_count": 6,
   "metadata": {},
   "outputs": [
    {
     "name": "stdout",
     "output_type": "stream",
     "text": [
      "All charcters Count=  32\n"
     ]
    }
   ],
   "source": [
    "# char count from text File\n",
    "def readFile(filePath):\n",
    "    with open(filePath, 'r') as f:\n",
    "        filedata = f.read()\n",
    "    return len(filedata)\n",
    "\n",
    "filePath = 'DataFiles/data.txt'\n",
    "print(\"All charcters Count= \",readFile(filePath))"
   ]
  },
  {
   "cell_type": "code",
   "execution_count": 7,
   "metadata": {},
   "outputs": [
    {
     "name": "stdout",
     "output_type": "stream",
     "text": [
      "All Words Count=  6\n"
     ]
    }
   ],
   "source": [
    "# words count from text File\n",
    "def readFile(filePath):\n",
    "    with open(filePath, 'r') as f:\n",
    "        filedata = f.read()\n",
    "    return len(filedata.split())\n",
    "\n",
    "filePath = 'DataFiles/data.txt'\n",
    "print(\"All Words Count= \",readFile(filePath))"
   ]
  },
  {
   "cell_type": "code",
   "execution_count": null,
   "metadata": {},
   "outputs": [],
   "source": []
  }
 ],
 "metadata": {
  "kernelspec": {
   "display_name": "Python 3",
   "language": "python",
   "name": "python3"
  },
  "language_info": {
   "codemirror_mode": {
    "name": "ipython",
    "version": 3
   },
   "file_extension": ".py",
   "mimetype": "text/x-python",
   "name": "python",
   "nbconvert_exporter": "python",
   "pygments_lexer": "ipython3",
   "version": "3.7.3"
  }
 },
 "nbformat": 4,
 "nbformat_minor": 2
}
