{
 "cells": [
  {
   "cell_type": "markdown",
   "metadata": {},
   "source": [
    "## String Slicing"
   ]
  },
  {
   "cell_type": "code",
   "execution_count": 10,
   "metadata": {},
   "outputs": [
    {
     "data": {
      "text/plain": [
       "'ht'"
      ]
     },
     "execution_count": 10,
     "metadata": {},
     "output_type": "execute_result"
    }
   ],
   "source": [
    "a = \"Python\"\n",
    "\n",
    "a[0] #Accessing the first character in a String\n",
    "a[1] #Accessing the second character in a String\n",
    "a[-1] #Accessing the third character in a String\n",
    "a[len(a)-1]\n",
    "a[0:2] #Accessing the first 2 charactes in a string\n",
    "a[1:-1] #Accessing the all characters without starting & ending characters\n",
    "a[len(a)//2] #Accessing the middle characters\n",
    "a[-1::-1] #reverse of a string\n",
    "a[len(a)//2:len(a)//2-2:-1]"
   ]
  },
  {
   "cell_type": "markdown",
   "metadata": {},
   "source": [
    "## Functions"
   ]
  },
  {
   "cell_type": "code",
   "execution_count": 11,
   "metadata": {},
   "outputs": [
    {
     "data": {
      "text/plain": [
       "'nohtyp'"
      ]
     },
     "execution_count": 11,
     "metadata": {},
     "output_type": "execute_result"
    }
   ],
   "source": [
    "# Function to Reverse a String\n",
    "def reverse_string(s):\n",
    "    return s[::-1]\n",
    "\n",
    "reverse_string('python')"
   ]
  },
  {
   "cell_type": "code",
   "execution_count": 15,
   "metadata": {},
   "outputs": [
    {
     "data": {
      "text/plain": [
       "True"
      ]
     },
     "execution_count": 15,
     "metadata": {},
     "output_type": "execute_result"
    }
   ],
   "source": [
    "# Function to check if a string is a palindrome\n",
    "\n",
    "def palindrome(s):\n",
    "    if s==s[::-1]:\n",
    "        return True\n",
    "    else:\n",
    "        return False\n",
    "palindrome(\"l\")"
   ]
  },
  {
   "cell_type": "code",
   "execution_count": 26,
   "metadata": {},
   "outputs": [
    {
     "name": "stdout",
     "output_type": "stream",
     "text": [
      "Enter number2011\n"
     ]
    },
    {
     "data": {
      "text/plain": [
       "False"
      ]
     },
     "execution_count": 26,
     "metadata": {},
     "output_type": "execute_result"
    }
   ],
   "source": [
    "# Function to check if a givenyear is a leap year\n",
    "def isleapyear(y):\n",
    "    if y%400==0 or (y%100!=0 and y%4==0):\n",
    "        return True\n",
    "    else:\n",
    "        return False\n",
    "isleapyear(int(input(\"Enter number\")))"
   ]
  },
  {
   "cell_type": "code",
   "execution_count": 29,
   "metadata": {},
   "outputs": [
    {
     "name": "stdout",
     "output_type": "stream",
     "text": [
      "Enter number:) 56754544\n",
      "8\n"
     ]
    }
   ],
   "source": [
    "# Function is to count all digits in given number\n",
    "def digits_count(i):\n",
    "    return len(i)\n",
    "print(digits_count(str(int(input(\"Enter number:) \")))))"
   ]
  },
  {
   "cell_type": "markdown",
   "metadata": {},
   "source": [
    "## Iteratons\n",
    "- for\n",
    "- while"
   ]
  },
  {
   "cell_type": "code",
   "execution_count": 35,
   "metadata": {},
   "outputs": [
    {
     "name": "stdout",
     "output_type": "stream",
     "text": [
      "1 2 3 4 5 6 7 8 9 10 11 12 13 14 15 16 17 18 19 20 21 22 23 24 25 26 27 28 29 30 "
     ]
    }
   ],
   "source": [
    "# Function to print n natural numbers\n",
    "\n",
    "def PrintNNaturalNumbers(n):\n",
    "    for counter in range(1,n+1):\n",
    "        print(counter,end=' ')\n",
    "    return\n",
    "PrintNNaturalNumbers(30)"
   ]
  },
  {
   "cell_type": "code",
   "execution_count": 42,
   "metadata": {},
   "outputs": [
    {
     "name": "stdout",
     "output_type": "stream",
     "text": [
      "6\n",
      "12\n"
     ]
    }
   ],
   "source": [
    "# Function to orint all numbers divisible by 6 \n",
    "# and not a facor of 100 in a given range(lowerbound,upperbound) inclusive\n",
    "def divisibleBy6(a,b):\n",
    "    for i in range(a,b):\n",
    "        if i%6==0 and i%100!=0:\n",
    "            print(i)\n",
    "divisibleBy6(10,33)"
   ]
  },
  {
   "cell_type": "code",
   "execution_count": 34,
   "metadata": {},
   "outputs": [
    {
     "data": {
      "text/plain": [
       "22000.0"
      ]
     },
     "execution_count": 34,
     "metadata": {},
     "output_type": "execute_result"
    }
   ],
   "source": [
    "# FUnction to find the avearage of cubes of all even numbers\n",
    "# in agiven range(lb,ub) inclusive\n",
    "def cubeOf3(a,b):\n",
    "    total,count=0,0\n",
    "    for i in range(a,b+1):\n",
    "        if i%2==0:\n",
    "            total+=i**3\n",
    "            count+=1\n",
    "    return total/count\n",
    "cubeOf3(10,40)"
   ]
  },
  {
   "cell_type": "code",
   "execution_count": 50,
   "metadata": {},
   "outputs": [
    {
     "name": "stdout",
     "output_type": "stream",
     "text": [
      "1,2,3,4,6,12,"
     ]
    }
   ],
   "source": [
    "# Factor to claculate the factorial of a given number\n",
    "#12-> 1 2 3 4 6 12\n",
    "def factorial(n):\n",
    "    for i in range(1,n+1):\n",
    "        if n%i==0:\n",
    "            print(i,end=',',)\n",
    "factorial(12)"
   ]
  },
  {
   "cell_type": "code",
   "execution_count": 38,
   "metadata": {},
   "outputs": [
    {
     "name": "stdout",
     "output_type": "stream",
     "text": [
      "Enter Number: 12\n"
     ]
    },
    {
     "data": {
      "text/plain": [
       "False"
      ]
     },
     "execution_count": 38,
     "metadata": {},
     "output_type": "execute_result"
    }
   ],
   "source": [
    "# Function to check if a given number is prime\n",
    "def check_prime(n):\n",
    "    flag=True\n",
    "    for m in range(2,(n//2+1)):\n",
    "        if n%m==0:\n",
    "            flag=False\n",
    "            return flag\n",
    "    \n",
    "    return flag\n",
    "check_prime(int(input(\"Enter Number: \")))"
   ]
  },
  {
   "cell_type": "code",
   "execution_count": 42,
   "metadata": {},
   "outputs": [
    {
     "data": {
      "text/plain": [
       "12.9"
      ]
     },
     "execution_count": 42,
     "metadata": {},
     "output_type": "execute_result"
    }
   ],
   "source": [
    "# Function to claculate the average first N Prime Numbers\n",
    "def avgNPrime(n):\n",
    "    primeCount=0\n",
    "    sum=0\n",
    "    seqCount=2\n",
    "    while primeCount<n:\n",
    "        if check_prime(seqCount):\n",
    "            primeCount+=1\n",
    "            sum+=seqCount\n",
    "        seqCount+=1\n",
    "    return sum/n\n",
    "avgNPrime(10)\n",
    "     "
   ]
  },
  {
   "cell_type": "code",
   "execution_count": 14,
   "metadata": {},
   "outputs": [
    {
     "name": "stdout",
     "output_type": "stream",
     "text": [
      "Enter Number-> 42\n",
      "Factors are-> 1 2 3 6 7 14 21 \n",
      "Given value=  42 Sum=  54 so Given number is Not Prime.\n"
     ]
    }
   ],
   "source": [
    "# Function to genarate all perfect numbers in a given range\n",
    "# sum of all factros are eqal to given number that number is called perfect number\n",
    "def factors(n):\n",
    "    total=0\n",
    "    print(\"Factors are-> \",end='')\n",
    "    for i in range(1,n):\n",
    "        if n%i==0:\n",
    "            print(i,end=' ')\n",
    "            total+=i\n",
    "    if n==total:\n",
    "        print(\"\\nGiven value= \",n,\"Sum= \",total,\"so\",\"Given number is Prime.\")\n",
    "    else:\n",
    "        print(\"\\nGiven value= \",n,\"Sum= \",total,\"so\",\"Given number is Not Prime.\")\n",
    "factors(int(input(\"Enter Number-> \")))"
   ]
  },
  {
   "cell_type": "code",
   "execution_count": 16,
   "metadata": {},
   "outputs": [
    {
     "name": "stdout",
     "output_type": "stream",
     "text": [
      "500 502 504 506 508 510 512 514 516 518 520 522 524 526 528 530 532 534 536 538 540 542 544 546 548 550 "
     ]
    }
   ],
   "source": [
    "# Function to print the alternantive values in a range\n",
    "# [500,550]->  500 502 504 ...... 550--> Inclusive\n",
    "# (500,550)->  501 503 505 .......548-->exclusive\n",
    "def AlterNumberInclusive(m,n):\n",
    "    for temp in range(m,n+1,2):\n",
    "        print(temp,end=' ')\n",
    "    return\n",
    "AlterNumberInclusive(500,550)\n"
   ]
  },
  {
   "cell_type": "code",
   "execution_count": 24,
   "metadata": {},
   "outputs": [
    {
     "name": "stdout",
     "output_type": "stream",
     "text": [
      "10 9 8 7 6 5 4 3 2 1 "
     ]
    }
   ],
   "source": [
    "# Function to print reverse of given range in the given 2 numbers\n",
    "def reverseRange(start,end):\n",
    "    for value in range(end,start-1,-1):\n",
    "        print(value,end=' ')\n",
    "    return\n",
    "reverseRange(1,10)\n",
    "        \n",
    "\n",
    "    "
   ]
  },
  {
   "cell_type": "code",
   "execution_count": 28,
   "metadata": {},
   "outputs": [
    {
     "name": "stdout",
     "output_type": "stream",
     "text": [
      "53 51 49 47 45 43 41 39 37 35 33 31 29 27 25 23 "
     ]
    }
   ],
   "source": [
    "# Function to print the odd numbers in reverse order in a given range \n",
    "'''\n",
    "def reverse_Odd(start,end):\n",
    "    for i in range(end,start-1,-1):\n",
    "        if i%2!=0:\n",
    "            print(i,end=' ')\n",
    "    return \n",
    "reverse_Odd(23,55)\n",
    "'''\n",
    "\n",
    "def reverse_Odd(start,end):\n",
    "    if end%2==0:\n",
    "        end=end-1\n",
    "    for i in range(end,start-1,-1):\n",
    "            if i%2!=0:\n",
    "                print(i,end=' ')\n",
    "    return \n",
    "reverse_Odd(23,54)\n"
   ]
  },
  {
   "cell_type": "code",
   "execution_count": 34,
   "metadata": {},
   "outputs": [
    {
     "data": {
      "text/plain": [
       "15150"
      ]
     },
     "execution_count": 34,
     "metadata": {},
     "output_type": "execute_result"
    }
   ],
   "source": [
    "# Function to calculate the sum of numbers in range\n",
    "def sumRange(start,end):\n",
    "    sum=0\n",
    "    for i in range(start,end+1):\n",
    "        \n",
    "                sum+=i\n",
    "    return sum\n",
    "sumRange(100,200)"
   ]
  },
  {
   "cell_type": "code",
   "execution_count": 37,
   "metadata": {},
   "outputs": [
    {
     "data": {
      "text/plain": [
       "151.5"
      ]
     },
     "execution_count": 37,
     "metadata": {},
     "output_type": "execute_result"
    }
   ],
   "source": [
    "# Function to calculate the avg of numbers in range\n",
    "def sumRange(start,end):\n",
    "    sum=0\n",
    "    for i in range(start,end+1):\n",
    "                sum+=i\n",
    "    return sum/(end-start)\n",
    "sumRange(100,200)\n"
   ]
  },
  {
   "cell_type": "code",
   "execution_count": null,
   "metadata": {},
   "outputs": [],
   "source": []
  }
 ],
 "metadata": {
  "kernelspec": {
   "display_name": "Python 3",
   "language": "python",
   "name": "python3"
  },
  "language_info": {
   "codemirror_mode": {
    "name": "ipython",
    "version": 3
   },
   "file_extension": ".py",
   "mimetype": "text/x-python",
   "name": "python",
   "nbconvert_exporter": "python",
   "pygments_lexer": "ipython3",
   "version": "3.7.3"
  }
 },
 "nbformat": 4,
 "nbformat_minor": 2
}
