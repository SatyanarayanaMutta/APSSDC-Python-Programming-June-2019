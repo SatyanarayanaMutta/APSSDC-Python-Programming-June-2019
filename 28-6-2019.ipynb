{
 "cells": [
  {
   "cell_type": "markdown",
   "metadata": {},
   "source": [
    "## Date -> 28-June-2019\n",
    "## Day Objectives\n",
    "- Map\n",
    "- Lambda\n",
    "- Filter\n",
    "- Use Cases - File /Data Encriptions"
   ]
  },
  {
   "cell_type": "markdown",
   "metadata": {},
   "source": [
    "# Map\n",
    "\n",
    "## Mapping - Entity with Function\n",
    "f : x^2 + 3*x + 9\n",
    "    \n",
    "x: [1,10]\n",
    "f(x)\n",
    "\n",
    "f(x) -> 13\n",
    "f(x)"
   ]
  },
  {
   "cell_type": "code",
   "execution_count": 1,
   "metadata": {},
   "outputs": [
    {
     "ename": "SyntaxError",
     "evalue": "invalid syntax (<ipython-input-1-7c014def5366>, line 9)",
     "output_type": "error",
     "traceback": [
      "\u001b[1;36m  File \u001b[1;32m\"<ipython-input-1-7c014def5366>\"\u001b[1;36m, line \u001b[1;32m9\u001b[0m\n\u001b[1;33m    def recursivePower\u001b[0m\n\u001b[1;37m                      ^\u001b[0m\n\u001b[1;31mSyntaxError\u001b[0m\u001b[1;31m:\u001b[0m invalid syntax\n"
     ]
    }
   ],
   "source": [
    "def powerN(a,n):\n",
    "    #return a**n\n",
    "    r=1\n",
    "    for i in range(0,n):\n",
    "       r*=a\n",
    "    return r\n",
    "powerN(2,10)\n",
    "\n",
    "def recursivePower\n",
    "        "
   ]
  },
  {
   "cell_type": "code",
   "execution_count": 2,
   "metadata": {},
   "outputs": [
    {
     "data": {
      "text/plain": [
       "['1', '2', '3', '4', '5', '6']"
      ]
     },
     "execution_count": 2,
     "metadata": {},
     "output_type": "execute_result"
    }
   ],
   "source": [
    "def cube():\n",
    "    return n**3\n",
    "\n",
    "li=['1','2','3','4','5','6']\n",
    "li2= list(map(int,li))\n",
    "list(map(str,li2))\n"
   ]
  },
  {
   "cell_type": "markdown",
   "metadata": {},
   "source": [
    "## Filter\n",
    "\n",
    "Used to check boolean values "
   ]
  },
  {
   "cell_type": "code",
   "execution_count": 3,
   "metadata": {},
   "outputs": [
    {
     "data": {
      "text/plain": [
       "['1', '2', '3', '4', '5', '6']"
      ]
     },
     "execution_count": 3,
     "metadata": {},
     "output_type": "execute_result"
    }
   ],
   "source": [
    "li=['1','2','narayana','3','s','4','5','6','sfdfd']\n",
    "def isDigit(c):\n",
    "    if c.isdigit():\n",
    "        return True\n",
    "    return  False\n",
    "isDigit('1')\n",
    "\n",
    "list(filter(isDigit,li))"
   ]
  },
  {
   "cell_type": "code",
   "execution_count": 4,
   "metadata": {},
   "outputs": [
    {
     "data": {
      "text/plain": [
       "['1', '2', '3', '4', '5', '6']"
      ]
     },
     "execution_count": 4,
     "metadata": {},
     "output_type": "execute_result"
    }
   ],
   "source": [
    "li=['1','2','narayana','3','s','4','5','6','sfdfd']\n",
    "def isDigit(c):\n",
    "    if c.isdigit():\n",
    "        return 1\n",
    "    return  0\n",
    "isDigit('1')\n",
    "\n",
    "list(filter(isDigit,li))"
   ]
  },
  {
   "cell_type": "code",
   "execution_count": 5,
   "metadata": {},
   "outputs": [
    {
     "name": "stdout",
     "output_type": "stream",
     "text": [
      "[503, 509, 521, 523, 541, 547, 557, 563, 569, 571, 577, 587, 593, 599]\n",
      "[503, 509, 521, 523, 541, 547, 557, 563, 569, 571, 577, 587, 593, 599]\n"
     ]
    }
   ],
   "source": [
    "# Identify all Primes in a range using filter()\n",
    "def primesList(c):\n",
    "    f=True\n",
    "    for j in range(2,c//2+1):\n",
    "        if c%j==0:\n",
    "            f=False\n",
    "            return f\n",
    "    else:\n",
    "        return f\n",
    "    \n",
    "print(list(filter(primesList,range(500,600+1))))\n",
    "print([i for i in range(500,600+1)if primesList(i)])\n",
    "\n",
    "# Map fails the above operation because of map doesn't apply conditional checking(Boolean values[True or False])"
   ]
  },
  {
   "cell_type": "markdown",
   "metadata": {},
   "source": [
    "## Lambda\n",
    "\n",
    "Anonymous Functions\n",
    "\n",
    "Can be embedded into List Comprehension,Maps,Filters"
   ]
  },
  {
   "cell_type": "code",
   "execution_count": 6,
   "metadata": {},
   "outputs": [
    {
     "data": {
      "text/plain": [
       "[2, 4, 6]"
      ]
     },
     "execution_count": 6,
     "metadata": {},
     "output_type": "execute_result"
    }
   ],
   "source": [
    "a = lambda x: x%2==0\n",
    "a(3)\n",
    "\n",
    "b = lambda x: x**3\n",
    "b(3)\n",
    "\n",
    "c= list(map(lambda x:x**3,[1,2,3,4,5,6]))\n",
    "c\n",
    "\n",
    "#c= list(map(lambda x:for j in range(2,x//2+1) if x%j ==0,[1,2,3,4,5,6]))\n",
    "\n",
    "list(filter(lambda x:(x%2==0),[1,2,3,4,5,6]))"
   ]
  },
  {
   "cell_type": "code",
   "execution_count": 7,
   "metadata": {},
   "outputs": [
    {
     "data": {
      "text/plain": [
       "[14, 11, 10, 14, 14, 8, 8]"
      ]
     },
     "execution_count": 7,
     "metadata": {},
     "output_type": "execute_result"
    }
   ],
   "source": [
    "from  random import randint\n",
    "\n",
    "intrenal1=[randint(0,25) for i in range(10)]\n",
    "intrenal2=[randint(0,25) for i in range(10)]\n",
    "intrenal3=[randint(0,25) for i in range(10)]\n",
    "\n",
    "averageinternalmarks = list(map(lambda x,y,z:(x+y+z)//3,intrenal1,intrenal2,intrenal3))\n",
    "averageinternalmarks\n",
    "\n",
    "failedMarks = list(filter(lambda x:x<10,averageinternalmarks))\n",
    "failedMarks\n",
    "\n",
    "failedMarks = list(filter(lambda x:x<15,list(map(lambda x,y,z:(x+y+z)//3,intrenal1,intrenal2,intrenal3))))\n",
    "#print(failedMarks)\n",
    "\n",
    "failedMarks = list(filter(lambda x:x<15,list(map(lambda x,y,z:(x+y+z)//3,[randint(0,25) for i in range(10)],[randint(0,25) for i in range(10)],[randint(0,25) for i in range(10)]))))\n",
    "failedMarks"
   ]
  },
  {
   "cell_type": "code",
   "execution_count": 8,
   "metadata": {},
   "outputs": [
    {
     "name": "stdout",
     "output_type": "stream",
     "text": [
      "['False', 'None', 'True', 'and', 'as', 'assert', 'async', 'await', 'break', 'class', 'continue', 'def', 'del', 'elif', 'else', 'except', 'finally', 'for', 'from', 'global', 'if', 'import', 'in', 'is', 'lambda', 'nonlocal', 'not', 'or', 'pass', 'raise', 'return', 'try', 'while', 'with', 'yield']\n"
     ]
    }
   ],
   "source": [
    "import keyword\n",
    "print(keyword.kwlist)"
   ]
  },
  {
   "cell_type": "markdown",
   "metadata": {},
   "source": [
    "## Applying Functional Programming to the Marks Analysis Application"
   ]
  },
  {
   "cell_type": "code",
   "execution_count": 9,
   "metadata": {},
   "outputs": [],
   "source": [
    "# Genearte MarksData\n",
    "from random import randint\n",
    "def generatemarks(n,lb,ub):\n",
    "    filename='DataFiles/marks.txt'\n",
    "    with open(filename,'w')as f:\n",
    "        for i in range(n):\n",
    "            marks=randint(lb,ub)\n",
    "            f.write(str(marks)+'\\n')\n",
    "    return\n",
    "generatemarks(500,0,100)"
   ]
  },
  {
   "cell_type": "code",
   "execution_count": null,
   "metadata": {},
   "outputs": [],
   "source": [
    "def dictionaryKeyFile(keyfile):\n",
    "    with open(keyfile,'r') as f:\n",
    "        line = f.readline().split()\n",
    "        \n",
    "def encryptMarksData(datafile,keyfile):\n",
    "    "
   ]
  },
  {
   "cell_type": "code",
   "execution_count": 12,
   "metadata": {},
   "outputs": [
    {
     "data": {
      "text/plain": [
       "51"
      ]
     },
     "execution_count": 12,
     "metadata": {},
     "output_type": "execute_result"
    }
   ],
   "source": [
    "# Marks Analysis\n",
    "# Class Average\n",
    "#% of passed,failed and distinction\n",
    "#Frequency of highest anf lowestmarks\n",
    "import re\n",
    "def ClassAverage(filepath):\n",
    "    with open(filepath,'r')as f:\n",
    "        filedata=f.read().split()\n",
    "        #markslist=re.split('\\n',filedata)\n",
    "    markslist=list(map(int,filedata))\n",
    "    return sum(markslist)//len(markslist)\n",
    "filepath='DataFiles/marks.txt'\n",
    "ClassAverage(filepath)"
   ]
  },
  {
   "cell_type": "code",
   "execution_count": null,
   "metadata": {},
   "outputs": [],
   "source": [
    "def readmarklist(filepath):\n",
    "    with open(filepath,'r') as f:\n",
    "        filedata=f.read().split()\n",
    "    return list(map(int,filedata))\n",
    "filepath='DataFiles/marks.txt'\n",
    "print(readmarklist(filepath),end='')"
   ]
  },
  {
   "cell_type": "code",
   "execution_count": null,
   "metadata": {},
   "outputs": [],
   "source": [
    "def percentagefailed(filepath):\n",
    "    markslist=readmarklist(filepath)\n",
    "    failedcount=len(list(filter(lambda mark: mark<40,markslist)))\n",
    "    return (failedcount/len(markslist))*100\n",
    "filepath='DataFiles/marks.txt'\n",
    "percentagefailed(filepath)"
   ]
  },
  {
   "cell_type": "code",
   "execution_count": null,
   "metadata": {},
   "outputs": [],
   "source": [
    "\n",
    "def percentagepassed(filepath):\n",
    "    return 100-percentagefailed(filepath)\n",
    "filepath='DataFiles/marks.txt'\n",
    "percentagepassed(filepath)"
   ]
  },
  {
   "cell_type": "code",
   "execution_count": null,
   "metadata": {},
   "outputs": [],
   "source": [
    "\n",
    "def percentagedistinction(filepath):\n",
    "    markslist=readmarklist(filepath)\n",
    "    failedcount=len(list(filter(lambda mark: mark>70,markslist)))\n",
    "    return (failedcount/len(markslist))*100\n",
    "filepath='DataFiles/marks.txt'\n",
    "percentagedistinction(filepath)"
   ]
  },
  {
   "cell_type": "code",
   "execution_count": null,
   "metadata": {},
   "outputs": [],
   "source": [
    "def highestmarksfrequency(filepath):\n",
    "    markslist=readmarklist(filepath)\n",
    "    return markslist.count(max(markslist))\n",
    "highestmarksfrequency(filepath)"
   ]
  },
  {
   "cell_type": "code",
   "execution_count": null,
   "metadata": {},
   "outputs": [],
   "source": [
    "def lowestmarksfrequency(filepath):\n",
    "    markslist=readmarklist(filepath)\n",
    "    return markslist.count(min(markslist))\n",
    "lowestmarksfrequency(filepath)"
   ]
  },
  {
   "cell_type": "markdown",
   "metadata": {},
   "source": [
    "## Data Encryption\n",
    "key - Mapping of characters with replaced 0 ->4 1 ->6 2 ->8 3 ->3 4 ->9 5 ->1 6 ->0 7 ->2 8 ->7 9 ->5"
   ]
  },
  {
   "cell_type": "code",
   "execution_count": null,
   "metadata": {},
   "outputs": [],
   "source": [
    "# Generate Key for encryption\n",
    "\n",
    "def generatekey(keypath):\n",
    "    with open(keypath,'w')as f:\n",
    "        for i in range(10):\n",
    "            if i<6:\n",
    "                f.write(str(i)+ ' '+str(i+4)+'\\n') # %10\n",
    "            else:\n",
    "                f.write(str(i)+' '+str(i-6)+'\\n')\n",
    "    return\n",
    "keypath='DataFiles/keypath.txt'\n",
    "generatekey(keypath)"
   ]
  },
  {
   "cell_type": "code",
   "execution_count": 24,
   "metadata": {},
   "outputs": [
    {
     "ename": "UnsupportedOperation",
     "evalue": "not readable",
     "output_type": "error",
     "traceback": [
      "\u001b[1;31m---------------------------------------------------------------------------\u001b[0m",
      "\u001b[1;31mUnsupportedOperation\u001b[0m                      Traceback (most recent call last)",
      "\u001b[1;32m<ipython-input-24-1ff5d2aec0b5>\u001b[0m in \u001b[0;36m<module>\u001b[1;34m\u001b[0m\n\u001b[0;32m     23\u001b[0m     \u001b[1;32mreturn\u001b[0m\u001b[1;33m\u001b[0m\u001b[1;33m\u001b[0m\u001b[0m\n\u001b[0;32m     24\u001b[0m \u001b[0mdatafile\u001b[0m \u001b[1;33m=\u001b[0m \u001b[1;34m\"DataFiles/marks.txt\"\u001b[0m\u001b[1;33m\u001b[0m\u001b[1;33m\u001b[0m\u001b[0m\n\u001b[1;32m---> 25\u001b[1;33m \u001b[0mencryptMarksData\u001b[0m\u001b[1;33m(\u001b[0m\u001b[0mdatafile\u001b[0m\u001b[1;33m,\u001b[0m\u001b[0mkeyfile\u001b[0m\u001b[1;33m)\u001b[0m\u001b[1;33m\u001b[0m\u001b[1;33m\u001b[0m\u001b[0m\n\u001b[0m",
      "\u001b[1;32m<ipython-input-24-1ff5d2aec0b5>\u001b[0m in \u001b[0;36mencryptMarksData\u001b[1;34m(datafile, keyfile)\u001b[0m\n\u001b[0;32m     18\u001b[0m         \u001b[0mmark\u001b[0m\u001b[1;33m=\u001b[0m\u001b[0mopen\u001b[0m\u001b[1;33m(\u001b[0m\u001b[1;34m\"DataFiles/encryptedMarks.txt\"\u001b[0m\u001b[1;33m,\u001b[0m\u001b[1;34m\"w\"\u001b[0m\u001b[1;33m)\u001b[0m\u001b[1;33m\u001b[0m\u001b[1;33m\u001b[0m\u001b[0m\n\u001b[0;32m     19\u001b[0m         \u001b[0mline\u001b[0m \u001b[1;33m=\u001b[0m\u001b[1;34m''\u001b[0m\u001b[1;33m\u001b[0m\u001b[1;33m\u001b[0m\u001b[0m\n\u001b[1;32m---> 20\u001b[1;33m         \u001b[1;32mfor\u001b[0m \u001b[0mn\u001b[0m \u001b[1;32min\u001b[0m \u001b[0mmark\u001b[0m\u001b[1;33m:\u001b[0m\u001b[1;33m\u001b[0m\u001b[1;33m\u001b[0m\u001b[0m\n\u001b[0m\u001b[0;32m     21\u001b[0m                 \u001b[0mline\u001b[0m\u001b[1;33m+=\u001b[0m\u001b[0mkey\u001b[0m\u001b[1;33m[\u001b[0m\u001b[0mn\u001b[0m\u001b[1;33m]\u001b[0m\u001b[1;33m\u001b[0m\u001b[1;33m\u001b[0m\u001b[0m\n\u001b[0;32m     22\u001b[0m                 \u001b[0mmark\u001b[0m\u001b[1;33m.\u001b[0m\u001b[0mwrite\u001b[0m\u001b[1;33m(\u001b[0m\u001b[0mline\u001b[0m\u001b[1;33m+\u001b[0m\u001b[1;34m'\\n'\u001b[0m\u001b[1;33m)\u001b[0m\u001b[1;33m\u001b[0m\u001b[1;33m\u001b[0m\u001b[0m\n",
      "\u001b[1;31mUnsupportedOperation\u001b[0m: not readable"
     ]
    }
   ],
   "source": [
    "# Function to Encrypt to data file\n",
    "keyfile='DataFiles/keypath.txt'\n",
    "def dictionarykeyfile(keyfile):\n",
    "    key={}\n",
    "    with open(keyfile,'r') as f:\n",
    "        for line in f:\n",
    "            line=line.split()\n",
    "            key[line[0]]=line[1]\n",
    "    return key\n",
    "dictionarykeyfile(keyfile)\n",
    "# def encryptmarksdata(datafile,keyfile):\n",
    "#     # construct a dictionary for key data\n",
    "\n",
    "def encryptMarksData(datafile,keyfile):\n",
    "    key = dictionarykeyfile(keyfile)\n",
    "    with open(datafile) as f:\n",
    "        filedata = f.read().split('\\n')\n",
    "        mark=open(\"DataFiles/encryptedMarks.txt\",\"w\")\n",
    "        line =''\n",
    "        for n in mark:\n",
    "                line+=key[n]\n",
    "                mark.write(line+'\\n')\n",
    "    return\n",
    "datafile = \"DataFiles/marks.txt\"\n",
    "encryptMarksData(datafile,keyfile)"
   ]
  },
  {
   "cell_type": "code",
   "execution_count": null,
   "metadata": {},
   "outputs": [],
   "source": [
    "a=open(\"DataFiles/encryptedMarks.txt\",'w')\n",
    "a.write(\"hello\")\n",
    "a.close()"
   ]
  },
  {
   "cell_type": "code",
   "execution_count": 23,
   "metadata": {},
   "outputs": [
    {
     "name": "stdout",
     "output_type": "stream",
     "text": [
      "{'0': '4', '1': '5', '2': '6', '3': '7', '4': '8', '5': '9', '6': '0', '7': '1', '8': '2', '9': '3'}\n"
     ]
    }
   ],
   "source": [
    "def decryptMarksData(encryptedfile,keyfile):\n",
    "    key = dictionarykeyfile(keyfile)\n",
    "    print(key)\n",
    "    newkey={}\n",
    "    for key,value in key.items():\n",
    "        newkey[value]=key\n",
    "    with open(encryptedfile,'r') as f:\n",
    "        encrypteddata = f.read().split('\\n')\n",
    "    with open(\"DataFiles/decryptedMarks.txt\",'w') as f:\n",
    "        line= ''\n",
    "        for encryptedmark in encrypteddata:\n",
    "            line=''\n",
    "            for n in encryptedmark:\n",
    "                line+=newkey[n]\n",
    "            f.write(line+'\\n')\n",
    "    return\n",
    "encryptedfile=\"DataFiles/encryptedMarks.txt\"\n",
    "decryptMarksData(encryptedfile,keyfile)"
   ]
  },
  {
   "cell_type": "code",
   "execution_count": null,
   "metadata": {},
   "outputs": [],
   "source": []
  }
 ],
 "metadata": {
  "kernelspec": {
   "display_name": "Python 3",
   "language": "python",
   "name": "python3"
  },
  "language_info": {
   "codemirror_mode": {
    "name": "ipython",
    "version": 3
   },
   "file_extension": ".py",
   "mimetype": "text/x-python",
   "name": "python",
   "nbconvert_exporter": "python",
   "pygments_lexer": "ipython3",
   "version": "3.7.3"
  }
 },
 "nbformat": 4,
 "nbformat_minor": 2
}
