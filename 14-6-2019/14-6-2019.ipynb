{
 "cells": [
  {
   "cell_type": "markdown",
   "metadata": {},
   "source": [
    "## Prpoblem Solving and Programming in Python\n",
    "\n",
    "## Date 14-06-2019 \n",
    "\n",
    "## Day Objectives\n",
    "- Python Data Structures\n",
    "    - List\n",
    "    - Tuple\n",
    "    - Dictionary\n",
    "- Basic Problems set on Data Structures\n",
    "- Advanced Problem Set\n",
    "- Packages and modules in Python"
   ]
  },
  {
   "cell_type": "code",
   "execution_count": 21,
   "metadata": {},
   "outputs": [
    {
     "data": {
      "text/plain": [
       "661.5"
      ]
     },
     "execution_count": 21,
     "metadata": {},
     "output_type": "execute_result"
    }
   ],
   "source": [
    "li = [123,978,654]\n",
    "\n",
    "li # Access the entire list\n",
    "\n",
    "li[1] #Access an element  with index in a list\n",
    "\n",
    "li[1:] # \n",
    "li [1::2]\n",
    "\n",
    "li.append(345) # ADD element at the end of the li list\n",
    "\n",
    "sum(li)\n",
    "max(li)\n",
    "len(li)\n",
    "\n",
    "sum(li)/len(li)\n",
    "\n",
    "# Average of all alternative Elements from list\n",
    "sum(li[1::2])/len(li[1::2])"
   ]
  },
  {
   "cell_type": "code",
   "execution_count": 104,
   "metadata": {},
   "outputs": [
    {
     "name": "stdout",
     "output_type": "stream",
     "text": [
      "54\n"
     ]
    }
   ],
   "source": [
    "# Function to identify the N largest element\n",
    "# using sort() and length(list)-Nth Largest number from list\n",
    "'''\n",
    "def secondLarset(n,p):\n",
    "    n.sort()\n",
    "    return n[len(n)-p]\n",
    "\n",
    "print(li)\n",
    "pos=int(input(\"Enter position of largest-> \"))\n",
    "if len(li)>=pos:\n",
    "    print(secondLarset(li,pos))\n",
    "else:\n",
    "    print(\"enter Correct position & tray Again\")\n",
    "'''\n",
    "'''\n",
    "# without max() and sort() to find Nth largest number find in list of elements\n",
    "def nLargest(n,p):\n",
    "    count,temp=0,0\n",
    "    for i in n:\n",
    "        if i>temp:\n",
    "            temp=i\n",
    "            count+=1\n",
    "        if count==p:\n",
    "            return temp\n",
    "print(nLargest(li,2))\n",
    "'''\n",
    "\n",
    "\n",
    "# Function using to find Nth largest number using sort with in low lines of code\n",
    "def nthLargest_sort(l,n):\n",
    "    l.sort();\n",
    "    return l[-n]\n",
    "\n",
    "#print(li)\n",
    "print(nthLargest_sort(li,2))\n"
   ]
  },
  {
   "cell_type": "code",
   "execution_count": 58,
   "metadata": {},
   "outputs": [],
   "source": [
    "# Function to search for data in a list\n",
    "# Search for the key in the list and return rhe in\n",
    "'''\n",
    "def linearSearch(li,key):\n",
    "    for element in range(len(li)):\n",
    "        if key==li[element]:\n",
    "            return element\n",
    "    return -1\n",
    "    \n",
    "print(linearSearch(li,978))\n",
    "'''\n",
    "'''\n",
    "def linearsearch_2(li,key):\n",
    "    for element in li:\n",
    "        if element == key:\n",
    "            return li.index(element)\n",
    "    return -1\n",
    "linearsearch_2(li,978)\n",
    "'''\n",
    "\n",
    "def linearsearch_3(li,key):\n",
    "    if key in li:\n",
    "        return li.index(key)\n",
    "\n",
    "linearsearch_3(li,978)"
   ]
  },
  {
   "cell_type": "code",
   "execution_count": 95,
   "metadata": {},
   "outputs": [
    {
     "data": {
      "text/plain": [
       "3"
      ]
     },
     "execution_count": 95,
     "metadata": {},
     "output_type": "execute_result"
    }
   ],
   "source": [
    "# Functions to count the occurances of a given character \n",
    "# \"Python Programming\", m -> 2\n",
    "'''\n",
    "def countCharOccurances(s,c):\n",
    "    count=0\n",
    "    for ch in s:\n",
    "        if ch == c:\n",
    "            count += 1\n",
    "    return count\n",
    "\n",
    "countCharOccurances(\"Python Programming\",'m')\n",
    "'''\n",
    "\n",
    "'''\n",
    "# Function to find highest occurences charactes from given string\n",
    "def highestdubplicateCharCount(data):\n",
    "    temp,count=0,0\n",
    "    for  i in range(len(data)):\n",
    "        if data.count(data[i])>count:\n",
    "            count=data.count(data[i])\n",
    "            temp=i\n",
    "    return temp\n",
    "d=\"Python Pogramming\"\n",
    "a=highestdubplicateCharCount(d)\n",
    "print(d[a])\n",
    "'''\n",
    "# Function to find occurence of givn characters\n",
    "def highestCharOccurNoMethods(data,need):\n",
    "    temp=0\n",
    "    count=0\n",
    "    for char in range(len(data)-1):\n",
    "        \n",
    "        if data[char]==need[0]:\n",
    "            \n",
    "            if data[char]==need[0] and data[char+1]==need[1]:\n",
    "                #print(data[char])\n",
    "                count+=1\n",
    "    return count\n",
    "                \n",
    "highestCharOccurNoMethods(\"absbsabnbbabbbassssa\",'ab')\n"
   ]
  },
  {
   "cell_type": "code",
   "execution_count": 84,
   "metadata": {},
   "outputs": [
    {
     "name": "stdout",
     "output_type": "stream",
     "text": [
      "Enter Length of list u want? 3\n",
      "Enter list Elements-> 45  8 8 8 6554 4 44 3 3 \n"
     ]
    },
    {
     "data": {
      "text/plain": [
       "[45, 8, 8]"
      ]
     },
     "execution_count": 84,
     "metadata": {},
     "output_type": "execute_result"
    }
   ],
   "source": [
    "# Task-1 on 14-6-19\n",
    "length = int(input(\"Enter Length of list u want? \"))\n",
    "data = [int(i) for i in input(\"Enter list Elements-> \").split()][:length]\n",
    "data"
   ]
  },
  {
   "cell_type": "code",
   "execution_count": 1,
   "metadata": {},
   "outputs": [
    {
     "name": "stdout",
     "output_type": "stream",
     "text": [
      "3\n",
      "-23 -2 0 34 2 532 4 \n",
      "2\n"
     ]
    }
   ],
   "source": [
    "# print 0 colsest number from list\n",
    "#def closestZero():\n",
    "'''\n",
    "n=int(input())\n",
    "n1 = input().split()\n",
    "li=[]\n",
    "for i in n1:\n",
    "    li.append(abs(int(i)))\n",
    "min(li)\n",
    "#closestZero(li)\n",
    "'''\n",
    "def colsestZero1(a,f):\n",
    "    for  i in range(len(a)):\n",
    "        if a[i]<f and a[i+1]>f:\n",
    "            if abs(a[i])<abs(a[i+1]):\n",
    "                t= a[i]\n",
    "            elif abs(a[i])>abs(a[i+1]):\n",
    "                t=a[i+1]\n",
    "            else:\n",
    "                t=a[i]\n",
    "    return t\n",
    "n=int(input())\n",
    "n1 = input().split()\n",
    "li=[]\n",
    "for i in n1:\n",
    "    li.append(int(i))\n",
    "li.sort()\n",
    "print(colsestZero1(li,n))"
   ]
  },
  {
   "cell_type": "code",
   "execution_count": null,
   "metadata": {},
   "outputs": [],
   "source": []
  }
 ],
 "metadata": {
  "kernelspec": {
   "display_name": "Python 3",
   "language": "python",
   "name": "python3"
  },
  "language_info": {
   "codemirror_mode": {
    "name": "ipython",
    "version": 3
   },
   "file_extension": ".py",
   "mimetype": "text/x-python",
   "name": "python",
   "nbconvert_exporter": "python",
   "pygments_lexer": "ipython3",
   "version": "3.7.3"
  }
 },
 "nbformat": 4,
 "nbformat_minor": 2
}
