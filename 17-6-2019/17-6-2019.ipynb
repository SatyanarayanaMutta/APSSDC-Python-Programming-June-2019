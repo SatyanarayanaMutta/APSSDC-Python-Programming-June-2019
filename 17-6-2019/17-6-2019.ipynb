{
 "cells": [
  {
   "cell_type": "code",
   "execution_count": 1,
   "metadata": {},
   "outputs": [
    {
     "name": "stdout",
     "output_type": "stream",
     "text": [
      "2\n",
      "5\n",
      "3\n",
      "6\n",
      "4\n"
     ]
    }
   ],
   "source": [
    "# Find largest reminder below N number\n",
    "def maxreminder(a):\n",
    "    temp=0\n",
    "    r=0\n",
    "    for number in range(1,a):\n",
    "        rem=a%number\n",
    "        if rem>r:\n",
    "                r=rem\n",
    "                temp=number\n",
    "    return temp\n",
    "n= int(input())\n",
    "for i in range(n):\n",
    "    print(maxreminder(int(input())))"
   ]
  },
  {
   "cell_type": "code",
   "execution_count": 2,
   "metadata": {},
   "outputs": [
    {
     "name": "stdout",
     "output_type": "stream",
     "text": [
      "1\n",
      "2 20 4 11\n",
      "1 51\n"
     ]
    }
   ],
   "source": [
    "## Function to count duration depends on given start & end times\n",
    "def findTime(h1,m1,h2,m2):\n",
    "    hourse,minutes=0,0\n",
    "    mtemp = (60-m1)+m2\n",
    "    htemp = h2-(h1+1)\n",
    "    return htemp,mtemp\n",
    "\n",
    "n=int(input())\n",
    "for count in range(n):\n",
    "    h1,m1,h2,m2=[int(x) for x in input().split()][:4]\n",
    "    d=findTime(h1,m1,h2,m2)\n",
    "    print(d[0],d[1])\n",
    "    "
   ]
  },
  {
   "cell_type": "code",
   "execution_count": 2,
   "metadata": {},
   "outputs": [
    {
     "name": "stdout",
     "output_type": "stream",
     "text": [
      "2\n",
      "4\n",
      "1\n",
      "NO\n",
      "6\n",
      "YES\n",
      "8\n",
      "NO\n",
      "10\n",
      "YES\n"
     ]
    }
   ],
   "source": [
    "### Function to determine if an number is special number or not\n",
    "def isSpecialNumber(n,p):\n",
    "    if numberOfFactors(n)>=p:\n",
    "        return True \n",
    "    return False\n",
    "    \n",
    "# function to check if number is prime\n",
    "def isPrime(n):\n",
    "    flag=1\n",
    "    if n==2:\n",
    "        return True\n",
    "    for i in range(2,n//2+1):\n",
    "        if n%i==0:\n",
    "            flag=0\n",
    "            return False\n",
    "    if flag==1:\n",
    "        return True\n",
    "#print(isPrime(9))\n",
    "# function to determine number of prime factors for a given number\n",
    "def numberOfFactors(n):\n",
    "    for i in range(n):\n",
    "        if isPrime(n):\n",
    "            return 1\n",
    "    count=0\n",
    "    for i in range(2,n//2+1):\n",
    "        if isPrime(i) and n%i ==0:\n",
    "            count+=1\n",
    "    return count\n",
    "\n",
    "def isSpecialNumberCheck():\n",
    "    p=int(input())\n",
    "    n=int(input())\n",
    "    for i in range(n):\n",
    "        if isSpecialNumber(int(input()),p):\n",
    "            print(\"YES\")\n",
    "        else:\n",
    "            print(\"NO\")\n",
    "\n",
    "isSpecialNumberCheck()"
   ]
  }
 ],
 "metadata": {
  "kernelspec": {
   "display_name": "Python 3",
   "language": "python",
   "name": "python3"
  },
  "language_info": {
   "codemirror_mode": {
    "name": "ipython",
    "version": 3
   },
   "file_extension": ".py",
   "mimetype": "text/x-python",
   "name": "python",
   "nbconvert_exporter": "python",
   "pygments_lexer": "ipython3",
   "version": "3.7.3"
  }
 },
 "nbformat": 4,
 "nbformat_minor": 2
}
