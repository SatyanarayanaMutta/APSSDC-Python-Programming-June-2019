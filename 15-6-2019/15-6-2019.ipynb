{
 "cells": [
  {
   "cell_type": "markdown",
   "metadata": {},
   "source": [
    "## Basic Problem Set on Hackerearth (Basic I/O Category)\n",
    "- Count Divisors\n",
    "- Factorial\n",
    "- Toggle String\n",
    "- Palindrome\n",
    "- Two Strings\n",
    "- Duration\n",
    "- Char Sum\n",
    "- Play with Numbers"
   ]
  },
  {
   "cell_type": "code",
   "execution_count": 4,
   "metadata": {},
   "outputs": [
    {
     "name": "stdout",
     "output_type": "stream",
     "text": [
      "1 10 1\n",
      "10\n"
     ]
    }
   ],
   "source": [
    "# Function to find Count Divisors\n",
    "def findAvg(a,b,c):\n",
    "    count=0\n",
    "    for i in range(a,b+1):\n",
    "        if i%c==0:\n",
    "            count+=1\n",
    "    return count\n",
    "\n",
    "x,y,z=[int(x) for x in input().split()][:3]\n",
    "print(findAvg(x,y,z))"
   ]
  },
  {
   "cell_type": "code",
   "execution_count": 2,
   "metadata": {},
   "outputs": [
    {
     "name": "stdout",
     "output_type": "stream",
     "text": [
      "5\n",
      "120\n"
     ]
    }
   ],
   "source": [
    "# Function to find Factorial\n",
    "n=int(input())\n",
    "sum=1\n",
    "for  i in range(n,0,-1):\n",
    "    sum=sum*i\n",
    "print(sum)"
   ]
  },
  {
   "cell_type": "code",
   "execution_count": 5,
   "metadata": {},
   "outputs": [
    {
     "name": "stdout",
     "output_type": "stream",
     "text": [
      "pYthRon\n",
      "PyTHrON\n"
     ]
    }
   ],
   "source": [
    "# String Tuggle (replace upper to lower & lower to upper)\n",
    "data=input()\n",
    "output=''\n",
    "if data:\n",
    "    for char in data:\n",
    "        if char.isupper():\n",
    "            output+=char.lower()\n",
    "        elif char.islower():\n",
    "            output+=char.upper()\n",
    "        else:\n",
    "            output+=char\n",
    "print(output)"
   ]
  },
  {
   "cell_type": "code",
   "execution_count": 2,
   "metadata": {},
   "outputs": [
    {
     "name": "stdout",
     "output_type": "stream",
     "text": [
      "racecar\n",
      "YES\n"
     ]
    }
   ],
   "source": [
    "# Palindrome String\n",
    "data=input()\n",
    "if data==data[::-1]:\n",
    "    print(\"YES\")\n",
    "else:\n",
    "    print(\"NO\")"
   ]
  },
  {
   "cell_type": "code",
   "execution_count": 3,
   "metadata": {},
   "outputs": [
    {
     "name": "stdout",
     "output_type": "stream",
     "text": [
      "2 \n",
      "sumit mitsu\n",
      "YES\n",
      "abhi hibb\n",
      "NO\n"
     ]
    }
   ],
   "source": [
    "# Two String\n",
    "def matchString(a,b):\n",
    "    n=\"YES\"\n",
    "    if len(a)==len(b):\n",
    "        for char in a:\n",
    "            if a.count(char)!=b.count(char):\n",
    "                n=\"NO\"\n",
    "        \n",
    "    return n\n",
    "n=int(input())\n",
    "for j in range(n):\n",
    "    m,n=input().split()[:2]\n",
    "    print(matchString(m,n))"
   ]
  },
  {
   "cell_type": "code",
   "execution_count": 5,
   "metadata": {},
   "outputs": [
    {
     "name": "stdout",
     "output_type": "stream",
     "text": [
      "aba\n",
      "4\n"
     ]
    }
   ],
   "source": [
    "# Char Sum\n",
    "d=input()\n",
    "total=0\n",
    "for i in d:\n",
    "    if i.lower():\n",
    "        total+=ord(i)-96\n",
    "print(total)"
   ]
  },
  {
   "cell_type": "code",
   "execution_count": 6,
   "metadata": {},
   "outputs": [
    {
     "name": "stdout",
     "output_type": "stream",
     "text": [
      "9\n",
      "2 3 5 7 "
     ]
    }
   ],
   "source": [
    "# Prime Numbers\n",
    "\n",
    "def checkPrime(a):\n",
    "    flag=True\n",
    "    for i in range(2,a):\n",
    "        if a%i==0:\n",
    "            flag=False\n",
    "            return \n",
    "    return a\n",
    "            \n",
    "n=int(input())\n",
    "for count in range(2,n+1):\n",
    "    o=checkPrime(count)\n",
    "    if o!=None:\n",
    "        print(o,end=' ')"
   ]
  },
  {
   "cell_type": "markdown",
   "metadata": {},
   "source": [
    "### Problem-> duration\n"
   ]
  },
  {
   "cell_type": "code",
   "execution_count": 15,
   "metadata": {},
   "outputs": [
    {
     "name": "stdout",
     "output_type": "stream",
     "text": [
      "3\n",
      "5\n",
      "3\n",
      "7\n",
      "4\n",
      "4\n",
      "3\n"
     ]
    }
   ],
   "source": [
    "# Find largest reminder below N number\n",
    "def maxreminder(a):\n",
    "    temp=0\n",
    "    r=0\n",
    "    for number in range(1,a):\n",
    "        rem=a%number\n",
    "        if rem>r:\n",
    "                r=rem\n",
    "                temp=number\n",
    "    return temp\n",
    "n= int(input())\n",
    "for i in range(n):\n",
    "    print(maxreminder(int(input())))"
   ]
  },
  {
   "cell_type": "code",
   "execution_count": 23,
   "metadata": {},
   "outputs": [
    {
     "name": "stdout",
     "output_type": "stream",
     "text": [
      "2\n",
      "1 44 2 14\n",
      "0 30\n",
      "2 42 8 23\n",
      "5 41\n"
     ]
    }
   ],
   "source": [
    "# Function to count duration depends on given start & end times\n",
    "def findTime(h1,m1,h2,m2):\n",
    "    hourse,minutes=0,0\n",
    "    mtemp = (60-m1)+m2\n",
    "    htemp = h2-(h1+1)\n",
    "    return htemp,mtemp\n",
    "\n",
    "n=int(input())\n",
    "for count in range(n):\n",
    "    h1,m1,h2,m2=[int(x) for x in input().split()][:4]\n",
    "    d=findTime(h1,m1,h2,m2)\n",
    "    print(d[0],d[1])\n",
    "    "
   ]
  },
  {
   "cell_type": "code",
   "execution_count": 18,
   "metadata": {},
   "outputs": [
    {
     "name": "stdout",
     "output_type": "stream",
     "text": [
      "2\n",
      "5\n",
      "1\n",
      "NO\n",
      "6\n",
      "YES\n",
      "8\n",
      "NO\n",
      "10\n",
      "YES\n",
      "11\n",
      "NO\n"
     ]
    }
   ],
   "source": [
    "### Function to determine if an number is special number or not\n",
    "def isSpecialNumber(n,p):\n",
    "    if numberOfFactors(n)>=p:\n",
    "        return True \n",
    "    return False\n",
    "    \n",
    "# function to check if number is prime\n",
    "def isPrime(n):\n",
    "    flag=1\n",
    "    if n==2:\n",
    "        return True\n",
    "    for i in range(2,n//2+1):\n",
    "        if n%i==0:\n",
    "            flag=0\n",
    "            return False\n",
    "    if flag==1:\n",
    "        return True\n",
    "#print(isPrime(9))\n",
    "# function to determine number of prime factors for a given number\n",
    "def numberOfFactors(n):\n",
    "    for i in range(n):\n",
    "        if isPrime(n):\n",
    "            return 1\n",
    "    count=0\n",
    "    for i in range(2,n//2+1):\n",
    "        if isPrime(i) and n%i ==0:\n",
    "            count+=1\n",
    "    return count\n",
    "\n",
    "def isSpecialNumberCheck():\n",
    "    p=int(input())\n",
    "    n=int(input())\n",
    "    for i in range(n):\n",
    "        if isSpecialNumber(int(input()),p):\n",
    "            print(\"YES\")\n",
    "        else:\n",
    "            print(\"NO\")\n",
    "\n",
    "isSpecialNumberCheck()"
   ]
  }
 ],
 "metadata": {
  "kernelspec": {
   "display_name": "Python 3",
   "language": "python",
   "name": "python3"
  },
  "language_info": {
   "codemirror_mode": {
    "name": "ipython",
    "version": 3
   },
   "file_extension": ".py",
   "mimetype": "text/x-python",
   "name": "python",
   "nbconvert_exporter": "python",
   "pygments_lexer": "ipython3",
   "version": "3.7.3"
  }
 },
 "nbformat": 4,
 "nbformat_minor": 2
}
