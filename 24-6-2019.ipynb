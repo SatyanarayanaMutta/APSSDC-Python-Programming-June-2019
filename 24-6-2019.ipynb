{
 "cells": [
  {
   "cell_type": "code",
   "execution_count": 1,
   "metadata": {},
   "outputs": [
    {
     "data": {
      "text/plain": [
       "(30, 'Marks Stored in ', 'DataFiles/marks.txt')"
      ]
     },
     "execution_count": 1,
     "metadata": {},
     "output_type": "execute_result"
    }
   ],
   "source": [
    "# Generation of Marks\n",
    "from random import randint\n",
    "filepath=\"DataFiles/marks.txt\"\n",
    "def generateMarks(n,lb=1,ub=100):\n",
    "    with open(filepath,'w') as file:\n",
    "        \n",
    "        for i in range(n):\n",
    "            file.write(str(randint(lb,ub))+'\\n')\n",
    "    file.close()\n",
    "    return n,\"Marks Stored in \",filepath\n",
    "    \n",
    "\n",
    "generateMarks(30,1,100)"
   ]
  },
  {
   "cell_type": "code",
   "execution_count": 2,
   "metadata": {},
   "outputs": [
    {
     "data": {
      "text/plain": [
       "53.43333333333333"
      ]
     },
     "execution_count": 2,
     "metadata": {},
     "output_type": "execute_result"
    }
   ],
   "source": [
    "# Class Average - classAverage(filepath)\n",
    "# \n",
    "\n",
    "def classAverage(filepath):\n",
    "    sum=count=0\n",
    "    with open(filepath) as file:\n",
    "        for i in file:\n",
    "            sum+=int(i)\n",
    "            count+=1\n",
    "        return (sum/count)\n",
    "        \n",
    "classAverage(filepath)\n",
    "    "
   ]
  },
  {
   "cell_type": "code",
   "execution_count": 3,
   "metadata": {},
   "outputs": [
    {
     "data": {
      "text/plain": [
       "73.33333333333333"
      ]
     },
     "execution_count": 3,
     "metadata": {},
     "output_type": "execute_result"
    }
   ],
   "source": [
    "# % Passed - passPercentage(filepath)\n",
    "#(passed count/total student count)*100\n",
    "def passPercentage(filepath):\n",
    "    count=mc=0\n",
    "    with open(filepath) as file:\n",
    "        for i in file:\n",
    "            mc+=1\n",
    "            if (int(i)>=35):\n",
    "                count+=1\n",
    "        return ((count/mc)*100)\n",
    "        \n",
    "passPercentage(filepath)\n",
    "    \n",
    "    "
   ]
  },
  {
   "cell_type": "code",
   "execution_count": 4,
   "metadata": {},
   "outputs": [
    {
     "name": "stdout",
     "output_type": "stream",
     "text": [
      "26.66666666666667\n"
     ]
    }
   ],
   "source": [
    "# % Failed - failedPercentaage(filepath)\n",
    "#(failed count/)\n",
    "def failedPercentage(filepath):\n",
    "    fcount=100-passPercentage(filepath)\n",
    "    return fcount\n",
    "failedPercentage(filepath)"
   ]
  },
  {
   "cell_type": "code",
   "execution_count": 5,
   "metadata": {},
   "outputs": [
    {
     "data": {
      "text/plain": [
       "26.666666666666668"
      ]
     },
     "execution_count": 5,
     "metadata": {},
     "output_type": "execute_result"
    }
   ],
   "source": [
    "# %\n",
    "def distriction(filepath):\n",
    "    count=mc=0\n",
    "    with open(filepath) as file:\n",
    "        for i in file:\n",
    "            mc+=1\n",
    "            if (int(i)>=75):\n",
    "                count+=1\n",
    "        return ((count/mc)*100)\n",
    "\n",
    "distriction(filepath)"
   ]
  },
  {
   "cell_type": "code",
   "execution_count": 6,
   "metadata": {},
   "outputs": [
    {
     "data": {
      "text/plain": [
       "1"
      ]
     },
     "execution_count": 6,
     "metadata": {},
     "output_type": "execute_result"
    }
   ],
   "source": [
    "# Frequency of Highest marks -frequencyHighest(filepath)\n",
    "def frequencyHighest(filepath):\n",
    "    with open(filepath) as f:\n",
    "        #sp=[int(x) for x in f.read().split()]\n",
    "        sp=list(map(int,f.read().split()))\n",
    "        #print(max(sp))\n",
    "        return sp.count(max(sp))\n",
    "frequencyHighest(filepath)"
   ]
  },
  {
   "cell_type": "code",
   "execution_count": 7,
   "metadata": {},
   "outputs": [
    {
     "data": {
      "text/plain": [
       "1"
      ]
     },
     "execution_count": 7,
     "metadata": {},
     "output_type": "execute_result"
    }
   ],
   "source": [
    "# Frequency of Highest marks -frequencyHighest(filepath)\n",
    "def frequencyLowest(filepath):\n",
    "    with open(filepath) as f:\n",
    "        #sp=[int(x) for x in f.read().split()]\n",
    "        sp=list(map(int,f.read().split()))\n",
    "        #print(min(sp))\n",
    "        return sp.count(min(sp))\n",
    "frequencyLowest(filepath)"
   ]
  },
  {
   "cell_type": "code",
   "execution_count": 1,
   "metadata": {},
   "outputs": [
    {
     "name": "stdout",
     "output_type": "stream",
     "text": [
      "****************************** \n",
      "\tMarks Analysis\n",
      "******************************1) Generate Marks\n",
      "2) Class Average Marks\n",
      "3) Passed Percentage\n",
      "4) Failed Percentage Marks\n",
      "5) Distriction Percntage\n",
      "6) Frequence of Highest Rank\n",
      "7) Frequence of Lowest Rank\n",
      " Choose Your Option: 0\n"
     ]
    }
   ],
   "source": [
    "filepath=\"DataFiles/marks.txt\"\n",
    "def marksAnalysis(filepath):\n",
    "    while 3:\n",
    "        print(30*\"*\",'\\n\\tMarks Analysis')\n",
    "        print(\"*\"*30,end='')\n",
    "        option = int(input(\"1) Generate Marks\\n2) Class Average Marks\\n3) Passed Percentage\\n4) Failed Percentage Marks\\n5) Distriction Percntage\\n6) Frequence of Highest Rank\\n7) Frequence of Lowest Rank\\n Choose Your Option: \"))\n",
    "        if option == 1:\n",
    "            t=generateMarks(int(input()))\n",
    "            print(*t,sep=' ')\n",
    "        elif option == 2:\n",
    "            print(classAverage(filepath))\n",
    "        elif option == 3:\n",
    "            print(passPercentage(filepath))\n",
    "        elif option == 4:\n",
    "            print(failedPercentage(filepath))\n",
    "        elif option == 5:\n",
    "            print(distriction(filepath))\n",
    "        elif option == 6:\n",
    "            print(frequencyHighest(filepath))\n",
    "        elif option == 7:\n",
    "            print(frequencyLowest(filepath))\n",
    "        elif option==0:\n",
    "            break\n",
    "        else:\n",
    "            print(\"Please Enter correct option\")\n",
    "marksAnalysis(filepath)"
   ]
  },
  {
   "cell_type": "code",
   "execution_count": null,
   "metadata": {},
   "outputs": [],
   "source": []
  }
 ],
 "metadata": {
  "kernelspec": {
   "display_name": "Python 3",
   "language": "python",
   "name": "python3"
  },
  "language_info": {
   "codemirror_mode": {
    "name": "ipython",
    "version": 3
   },
   "file_extension": ".py",
   "mimetype": "text/x-python",
   "name": "python",
   "nbconvert_exporter": "python",
   "pygments_lexer": "ipython3",
   "version": "3.7.3"
  }
 },
 "nbformat": 4,
 "nbformat_minor": 2
}
