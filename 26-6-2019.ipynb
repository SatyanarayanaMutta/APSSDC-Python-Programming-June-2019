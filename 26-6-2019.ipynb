{
 "cells": [
  {
   "cell_type": "code",
   "execution_count": 5,
   "metadata": {},
   "outputs": [
    {
     "name": "stdout",
     "output_type": "stream",
     "text": [
      "[73, 33, 22, 5, 4, 3, 2, 1]\n",
      "4\n"
     ]
    }
   ],
   "source": [
    "# Function to find the 2nd Largest number in alist\n",
    "\n",
    "def second_Largest(li):\n",
    "    # convert list into a unique list\n",
    "    # O(n)--> one loop if nested loop -->O(n*n)\n",
    "    unique=[]\n",
    "    for n in li:\n",
    "        if n not in unique:\n",
    "            unique.append(n)\n",
    "    unique=sorted(unique,reverse=True)\n",
    "    return unique[1]\n",
    "#second_Largest([1,3,4,43,3,2,2,3,4,5,5,33,2,22])\n",
    "#second_Largest([1,2])\n",
    "\n",
    "def fifth_Least(li):\n",
    "    # convert list into a unique list\n",
    "    # O(n)--> one loop if nested loop -->O(n*n)\n",
    "    unique=[]\n",
    "    for n in li:\n",
    "        if n not in unique:\n",
    "            unique.append(n)\n",
    "    unique=sorted(unique)\n",
    "    return unique[4]\n",
    "#fifth_Least([1,3,4,43,3,2,2,3,4,5,5,33,2,22])\n",
    "#second_Largest([1,2])\n",
    "\n",
    "def kLargest(li,k):\n",
    "    # convert list into a unique list\n",
    "    # O(n)--> one loop if nested loop -->O(n*n)\n",
    "    unique=[]\n",
    "    for n in li:\n",
    "        if n not in unique:\n",
    "            unique.append(n)\n",
    "    unique=sorted(unique,reverse=True)\n",
    "    print(unique)\n",
    "    return unique[k-1]\n",
    "print(kLargest([1,3,4,73,3,2,2,3,4,5,5,33,2,22],5))\n",
    "\n",
    "def kthLargestOrLeast(li,k,order):\n",
    "    # convert list into a unique list\n",
    "    # O(n)--> one loop if nested loop -->O(n*n)\n",
    "    unique=[]\n",
    "    if order == 'large':\n",
    "        for n in li:\n",
    "            if n not in unique:\n",
    "                unique.append(n)\n",
    "        unique=sorted(unique,reverse=True)\n",
    "        print(unique)\n",
    "        return unique[k-1]\n",
    "    elif order==\"least\":\n",
    "        for n in li:\n",
    "            if n not in unique:\n",
    "                unique.append(n)\n",
    "        unique=sorted(unique,reverse=False)\n",
    "        \n",
    "        print(unique)\n",
    "        return unique[k-1]\n",
    "    if len(unique)>=k:\n",
    "        unique[k-1]\n",
    "    return -1 \n",
    "#kthLargestOrLeast([1,3,4,43,3,2,2,3,4,5,5,33,2,22],5,\"large\")\n",
    "#kthLargestOrLeast([1,3,4,43,3,2,2,3,4,5,5,33,2,22],5,\"least\")\n",
    "\n"
   ]
  },
  {
   "cell_type": "code",
   "execution_count": 34,
   "metadata": {},
   "outputs": [
    {
     "name": "stdout",
     "output_type": "stream",
     "text": [
      "1\n"
     ]
    }
   ],
   "source": [
    "# Function to identify the element with highest frequency in a list\n",
    "# \n",
    "\n",
    "def highestFrequenceElement(li):\n",
    "    unique={}\n",
    "    for n in li:\n",
    "        if n in unique:\n",
    "            unique[n]+=1\n",
    "        else:\n",
    "            unique[n]=1\n",
    "    freq = unique.values()\n",
    "    maxfreq = max(freq)\n",
    "    maxfreqE=[]\n",
    "    for item in unique.items():\n",
    "        if item[1] == maxfreq:\n",
    "            maxfreqE.append(item[0])\n",
    "    maxfreqE = sorted(maxfreqE,reverse=True)\n",
    "    return  maxfreqE[]\n",
    "    \n",
    "\n",
    "def highestFrequencySmallestElement(li):\n",
    "    d={}\n",
    "    for i in li:\n",
    "        d[i]=d.get(i,0)+1\n",
    "    a=sorted(d.keys())[0]\n",
    "    return a\n",
    "        \n",
    "print(highestFrequencySmallestElement([1,2,3,9,8,7,3,4,2,1]))"
   ]
  },
  {
   "cell_type": "code",
   "execution_count": 63,
   "metadata": {},
   "outputs": [
    {
     "data": {
      "text/plain": [
       "3"
      ]
     },
     "execution_count": 63,
     "metadata": {},
     "output_type": "execute_result"
    }
   ],
   "source": [
    "def kth_HighestFrequence(s,k):\n",
    "    # unique characters with Frequency \n",
    "    unique={}\n",
    "    for c in s:\n",
    "        if c not in unique:\n",
    "            unique[c]=1\n",
    "        else:\n",
    "            unique[c]+=1\n",
    "    # unique={9:2,8:1,7:5,6:4,5:1,2:1,3:1,4:1}\n",
    "    #Extract all unique frequencies in a list\n",
    "    # uniqfreq = [2,1,5,4]\n",
    "    uniqfreq=[]\n",
    "    for value in unique.values():\n",
    "        if value not in uniqfreq:\n",
    "            uniqfreq.append(value)\n",
    "    uniqfreq = sorted(uniqfreq,reverse=True)\n",
    "    kfreq = uniqfreq[k-1]\n",
    "    kfreqchar = []\n",
    "    for item in unique.items():\n",
    "        if item[1]==kfreq:\n",
    "            kfreqchar.append(item[0])\n",
    "    return min(kfreqchar)\n",
    "    \n",
    "kth_HighestFrequence([1,2,3,2,1,4,4,9],2)"
   ]
  },
  {
   "cell_type": "code",
   "execution_count": 8,
   "metadata": {},
   "outputs": [
    {
     "name": "stdout",
     "output_type": "stream",
     "text": [
      "[25, 83, 100, 75, 25, 58, 75, 50, 83, 58, 17, 8, 100, 75, 17, 25, 75, 50, 8, 25]\n",
      "8\n"
     ]
    }
   ],
   "source": [
    "# Minimum difference value in list\n",
    "a=[25,50,108,125,100]\n",
    "b=[]\n",
    "for i in a:\n",
    "\tfor j in a:\n",
    "\t\tt=abs(j-i)\n",
    "\t\tif t!=0:\n",
    "\t\t\tb.append(t)\n",
    "            \n",
    "print(b)\n",
    "print(min(b))\n",
    "            "
   ]
  },
  {
   "cell_type": "code",
   "execution_count": null,
   "metadata": {},
   "outputs": [],
   "source": [
    "def urlsOrder():\n",
    "    n=int(input())\n",
    "    urls=[]\n",
    "    for j in range(n):\n",
    "        urls.append(input())\n",
    "    urls=[x[x.find('.')+1:] for x in urls]\n",
    "    print(urls)\n",
    "    d={}\n",
    "    for j in urls:\n",
    "        d[j]= d.get(j,0)+1\n",
    "    a=[]\n",
    "    for key,value in d.items():\n",
    "        a.append([value,key])\n",
    "    print(sorted(a))\n",
    "    print()\n",
    "    for j in range(len(a)):\n",
    "        #print(j)\n",
    "        print(\"https://www.\"+a[j][1])\n",
    "    \n",
    "temp={'google.com': 3, 'wikkipedia.com': 3,\"yahoo.in\":2,\"hackerearth.org\":1}\n",
    "urlsOrder()\n",
    "\n"
   ]
  },
  {
   "cell_type": "code",
   "execution_count": null,
   "metadata": {},
   "outputs": [],
   "source": []
  }
 ],
 "metadata": {
  "kernelspec": {
   "display_name": "Python 3",
   "language": "python",
   "name": "python3"
  },
  "language_info": {
   "codemirror_mode": {
    "name": "ipython",
    "version": 3
   },
   "file_extension": ".py",
   "mimetype": "text/x-python",
   "name": "python",
   "nbconvert_exporter": "python",
   "pygments_lexer": "ipython3",
   "version": "3.7.3"
  }
 },
 "nbformat": 4,
 "nbformat_minor": 2
}
