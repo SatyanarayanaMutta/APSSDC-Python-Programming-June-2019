{
 "cells": [
  {
   "cell_type": "code",
   "execution_count": 1,
   "metadata": {},
   "outputs": [
    {
     "name": "stdout",
     "output_type": "stream",
     "text": [
      "name1 already exists\n",
      "name2 already exists\n",
      "name3 already exists\n"
     ]
    }
   ],
   "source": [
    "# Function to add contact to contacts text file\n",
    "#import sys\n",
    "#sys.path.append('../')\n",
    "import os\n",
    "#os.chdir(\"..\")\n",
    "#print(os.getcwd())\n",
    "#os.chdir(\"../ProblemSolvingAndPrograamming-Python-L2/\")\n",
    "#print(os.getcwd())\n",
    "from Packages.validators import phoneNumberValidator as pnv, emailValidator as ev\n",
    "#from Packages.validators import emailValidator as ev\n",
    "\n",
    "\n",
    "def addContact(name, phone, email):\n",
    "    # store data as name,phone,email in the contacts file    \n",
    "    filename = 'DataFiles/contacts.txt'\n",
    "    if not checkContactExists(name):\n",
    "        if pnv(phone) and ev(email):\n",
    "            with open(filename, 'a') as f:\n",
    "                line = name + ',' + str(phone) + ',' + email + '\\n'\n",
    "                f.write(line)\n",
    "            print(name, 'added to contacts')\n",
    "        else:\n",
    "            print('Invalid Phone number or Email')\n",
    "            return\n",
    "    else:\n",
    "        print(name, 'already exists')\n",
    "    return\n",
    "\n",
    "import re\n",
    "# Function to check if contact already exists\n",
    "def checkContactExists(name):\n",
    "    filename = 'DataFiles/contacts.txt'\n",
    "    with open(filename, 'r') as f:\n",
    "        filedata = f.read()\n",
    "        pattern = name+','\n",
    "    return re.search(pattern, filedata)\n",
    "import os\n",
    "#print(os.getcwd())\n",
    "#os.chdir(\"../ProblemSolvingAndPrograamming-Python-L2/Packages\")\n",
    "#print(os.getcwd())\n",
    "\n",
    "addContact('name1', 9111111119, 'name1_34@gmail.com')\n",
    "addContact('name2', 9222222229, 'name2_34@gmail.com')\n",
    "addContact('name3', 9333333339, 'name3_34@gmail.com')\n",
    "#checkContactExists(\"name2\")"
   ]
  },
  {
   "cell_type": "code",
   "execution_count": 2,
   "metadata": {},
   "outputs": [
    {
     "data": {
      "text/plain": [
       "[['name1', '9111111111', 'name1_sfdsf@gmail.com\\n'],\n",
       " ['name2', '9222222222', 'name2_knhbu@gmail.com\\n'],\n",
       " ['name3', '9333333333', 'name3_sfdfcfdcv@gmail.com\\n']]"
      ]
     },
     "execution_count": 2,
     "metadata": {},
     "output_type": "execute_result"
    }
   ],
   "source": [
    "filename = 'DataFiles/contacts.txt'\n",
    "def csvToList(filename):\n",
    "    li = []\n",
    "    with open(filename, 'r') as f:\n",
    "        for line in f:\n",
    "            li.append(line.split(','))\n",
    "    return li\n",
    "\n",
    "def listToFile(li):\n",
    "    s = ''\n",
    "    for i in li:\n",
    "        s += ','.join(i)\n",
    "    return s\n",
    "    \n",
    "li = csvToList(filename)\n",
    "listToFile(li)\n",
    "csvToList(filename)\n",
    "csvToList(filename)"
   ]
  },
  {
   "cell_type": "code",
   "execution_count": 3,
   "metadata": {},
   "outputs": [
    {
     "name": "stdout",
     "output_type": "stream",
     "text": [
      "saved contacts to contacts.txt\n"
     ]
    },
    {
     "data": {
      "text/plain": [
       "'Update Done'"
      ]
     },
     "execution_count": 3,
     "metadata": {},
     "output_type": "execute_result"
    }
   ],
   "source": [
    "filename = 'DataFiles/contacts.txt'\n",
    "def saveContacts(contactsList):\n",
    "    string_contacts=''\n",
    "    #print(contactsList)\n",
    "    with open(filename, 'w') as f:\n",
    "        for line in contactsList:\n",
    "            #print(line,type(line))\n",
    "            if len(line)>2:\n",
    "                f.write(line[0]+','+line[1]+','+line[2])\n",
    "    \n",
    "    print('saved contacts to contacts.txt')\n",
    "    \n",
    "def updateContacts_TextFile(name,phone,email):\n",
    "    filename = 'DataFiles/contacts.txt'\n",
    "    if checkContactExists(name):\n",
    "        if pnv(phone) and ev(email):\n",
    "            data=csvToList(filename)\n",
    "            #print(data)\n",
    "            #print(\"name1\" in data[0])\n",
    "            for line in range(len(data)):\n",
    "                #print(data[line],name)\n",
    "                \n",
    "                if name in data[line][0]:\n",
    "                    data[line]=[name,str(phone),email+'\\n']\n",
    "                    saveContacts(data)\n",
    "                    return \"Update Done\"\n",
    "        \n",
    "        else:\n",
    "            return 'Invalid Phone number or Email'\n",
    "    else:\n",
    "        return name+\" Contact Not Found\"\n",
    "\n",
    "updateContacts_TextFile('name2',9111111111,\"satysdsdssa@apssdc.in\")\n",
    "#saveContacts("
   ]
  },
  {
   "cell_type": "code",
   "execution_count": 4,
   "metadata": {},
   "outputs": [
    {
     "name": "stdout",
     "output_type": "stream",
     "text": [
      "['name1,9111111111,name1_sfdsf@gmail.com\\n', 'name2,9111111111,satysdsdssa@apssdc.in\\n', 'name3,9333333333,name3_sfdfcfdcv@gmail.com\\n']\n"
     ]
    }
   ],
   "source": [
    "#with open(filename, 'a') as f:\n",
    "#     print(f.readlines())\n",
    "filename = 'DataFiles/contacts.txt'\n",
    "a=open(filename)\n",
    "print(a.readlines())\n",
    "a.close()\n",
    "b=open(filename,'w')\n",
    "b.close()"
   ]
  },
  {
   "cell_type": "code",
   "execution_count": 5,
   "metadata": {},
   "outputs": [
    {
     "data": {
      "text/plain": [
       "'name2 Contact Not Found'"
      ]
     },
     "execution_count": 5,
     "metadata": {},
     "output_type": "execute_result"
    }
   ],
   "source": [
    "def deleteContacts_TextFile(name):\n",
    "    filename = 'DataFiles/contacts.txt'\n",
    "    if checkContactExists(name):\n",
    "        \n",
    "            data=csvToList(filename)\n",
    "            #print(data)\n",
    "            #print(\"name1\" in data[0])\n",
    "            for line in range(len(data)):\n",
    "                #print(data[line],name)\n",
    "                \n",
    "                if name in data[line][0]:\n",
    "                    del data[line]\n",
    "                    saveContacts(data)\n",
    "                    return \"Delete Contact Done\"        \n",
    "        \n",
    "    else:\n",
    "        return name+\" Contact Not Found\"\n",
    "deleteContacts_TextFile('name2')"
   ]
  },
  {
   "cell_type": "code",
   "execution_count": 6,
   "metadata": {},
   "outputs": [
    {
     "data": {
      "text/plain": [
       "\"\\nvalue=input().strip()\\na=search_Contact(value)\\nprint(*a,sep='')\\n\""
      ]
     },
     "execution_count": 6,
     "metadata": {},
     "output_type": "execute_result"
    }
   ],
   "source": [
    "def search_Contact(name):\n",
    "    filename = 'DataFiles/contacts.txt'\n",
    "    with open(filename, 'r') as f:\n",
    "        for line in f.readlines():\n",
    "            #print(line,type(line))\n",
    "            temp=line.split(',')\n",
    "            if name==temp[0]:\n",
    "                return \"Contact name--> \",temp[0],\"\\nMobile Number--> \",temp[1],\"\\nMail ID--> \",temp[2]\n",
    "            \n",
    "    f.close()\n",
    "    return name+\" Contact Not Found.\"\n",
    "'''\n",
    "value=input().strip()\n",
    "a=search_Contact(value)\n",
    "print(*a,sep='')\n",
    "'''"
   ]
  },
  {
   "cell_type": "code",
   "execution_count": 7,
   "metadata": {},
   "outputs": [
    {
     "name": "stdout",
     "output_type": "stream",
     "text": [
      "~~~~~~~~~~~~~~~~~~~~~~~~~~~~~~ \n",
      "\tContacts MENU\n",
      "~~~~~~~~~~~~~~~~~~~~~~~~~~~~~~\n",
      "1) Add Contact\n",
      "2) Search Contact\n",
      "3) Updte or Edit Contact\n",
      "4) Delete Contact\n",
      "5) Display All Contacts\n",
      "Choose option: 1\n",
      "Enter Contact Name: name1\n",
      "9111111111\n",
      "Enter Email ID: name_1jnkjnknk@gmail.com\n",
      "name1 added to contacts\n",
      "~~~~~~~~~~~~~~~~~~~~~~~~~~~~~~ \n",
      "\tContacts MENU\n",
      "~~~~~~~~~~~~~~~~~~~~~~~~~~~~~~\n",
      "1) Add Contact\n",
      "2) Search Contact\n",
      "3) Updte or Edit Contact\n",
      "4) Delete Contact\n",
      "5) Display All Contacts\n",
      "Choose option: 1\n",
      "Enter Contact Name: name2\n",
      "922222222\n",
      "Enter Email ID: name2_dfdvd@gmail.com\n",
      "Invalid Phone number or Email\n",
      "~~~~~~~~~~~~~~~~~~~~~~~~~~~~~~ \n",
      "\tContacts MENU\n",
      "~~~~~~~~~~~~~~~~~~~~~~~~~~~~~~\n",
      "1) Add Contact\n",
      "2) Search Contact\n",
      "3) Updte or Edit Contact\n",
      "4) Delete Contact\n",
      "5) Display All Contacts\n",
      "Choose option: 1\n",
      "Enter Contact Name: name2\n",
      "9222222222\n",
      "Enter Email ID: name2_kjbjbj@gmail.com\n",
      "name2 added to contacts\n",
      "~~~~~~~~~~~~~~~~~~~~~~~~~~~~~~ \n",
      "\tContacts MENU\n",
      "~~~~~~~~~~~~~~~~~~~~~~~~~~~~~~\n",
      "1) Add Contact\n",
      "2) Search Contact\n",
      "3) Updte or Edit Contact\n",
      "4) Delete Contact\n",
      "5) Display All Contacts\n",
      "Choose option: 5\n",
      "Contact 1\n",
      "---------------\n",
      "\tName->  name1 \n",
      "\tMobile Number->  9111111111 \n",
      "\tEmail ID->  name_1jnkjnknk@gmail.com\n",
      "\n",
      "Contact 2\n",
      "---------------\n",
      "\tName->  name2 \n",
      "\tMobile Number->  9222222222 \n",
      "\tEmail ID->  name2_kjbjbj@gmail.com\n",
      "\n",
      "~~~~~~~~~~~~~~~~~~~~~~~~~~~~~~ \n",
      "\tContacts MENU\n",
      "~~~~~~~~~~~~~~~~~~~~~~~~~~~~~~\n",
      "1) Add Contact\n",
      "2) Search Contact\n",
      "3) Updte or Edit Contact\n",
      "4) Delete Contact\n",
      "5) Display All Contacts\n",
      "Choose option: 0\n"
     ]
    }
   ],
   "source": [
    "# Contacts Menu\n",
    "def contactsMenu():\n",
    "    while True:\n",
    "        print(30*\"~\",'\\n\\tContacts MENU')\n",
    "        print(30*\"~\",end='')\n",
    "        op = int(input(\"\\n1) Add Contact\\n2) Search Contact\\n3) Updte or Edit Contact\\n4) Delete Contact\\n5) Display All Contacts\\nChoose option: \"))\n",
    "        if op==1:\n",
    "            addContact(input(\"Enter Contact Name: \").strip(), int(input()), input(\"Enter Email ID: \").strip())\n",
    "        elif op==2:\n",
    "            a=search_Contact(input(\"Enter Name for Search: \").strip())\n",
    "            print(*a,sep='')\n",
    "        elif op==3:\n",
    "            print(updateContacts_TextFile(input(\"Enter Contact Name: \").strip(), int(input(\"Enter Updated Mobile Number: \")), input(\"Enter Updated Email ID: \").strip()))\n",
    "        elif op==4:\n",
    "            print(deleteContacts_TextFile(input(\"Enter Contact Name: \").strip()))\n",
    "        elif op==5:\n",
    "            a=csvToList(filename)\n",
    "            count=1\n",
    "            for column in a:\n",
    "                print(\"Contact\",count)\n",
    "                print(15*'-')\n",
    "                print(\"\\tName-> \",column[0],\"\\n\\tMobile Number-> \",column[1],\"\\n\\tEmail ID-> \",column[2])\n",
    "                count+=1\n",
    "        elif op==0:\n",
    "            print(\"Thank You for Contacts Menu Using.\")\n",
    "            break\n",
    "        else:\n",
    "            print(\"Select Correct Option\")\n",
    "\n",
    "contactsMenu()"
   ]
  },
  {
   "cell_type": "code",
   "execution_count": null,
   "metadata": {},
   "outputs": [],
   "source": []
  }
 ],
 "metadata": {
  "kernelspec": {
   "display_name": "Python 3",
   "language": "python",
   "name": "python3"
  },
  "language_info": {
   "codemirror_mode": {
    "name": "ipython",
    "version": 3
   },
   "file_extension": ".py",
   "mimetype": "text/x-python",
   "name": "python",
   "nbconvert_exporter": "python",
   "pygments_lexer": "ipython3",
   "version": "3.7.3"
  }
 },
 "nbformat": 4,
 "nbformat_minor": 2
}
