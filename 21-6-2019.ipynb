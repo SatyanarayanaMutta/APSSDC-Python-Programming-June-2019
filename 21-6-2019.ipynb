{
 "cells": [
  {
   "cell_type": "code",
   "execution_count": 22,
   "metadata": {},
   "outputs": [
    {
     "name": "stdout",
     "output_type": "stream",
     "text": [
      "name3 added to contacts\n"
     ]
    }
   ],
   "source": [
    "# Function to add contact to contacts text file\n",
    "#import sys\n",
    "#sys.path.append('../')\n",
    "import os\n",
    "#os.chdir(\"..\")\n",
    "#print(os.getcwd())\n",
    "#os.chdir(\"../ProblemSolvingAndPrograamming-Python-L2/\")\n",
    "#print(os.getcwd())\n",
    "from Packages.validators import phoneNumberValidator as pnv, emailValidator as ev\n",
    "#from Packages.validators import emailValidator as ev\n",
    "\n",
    "\n",
    "def addContact(name, phone, email):\n",
    "    # store data as name,phone,email in the contacts file    \n",
    "    filename = 'DataFiles/contacts.txt'\n",
    "    if not checkContactExists(name):\n",
    "        if pnv(phone) and ev(email):\n",
    "            with open(filename, 'a') as f:\n",
    "                line = name + ',' + str(phone) + ',' + email + '\\n'\n",
    "                f.write(line)\n",
    "            print(name, 'added to contacts')\n",
    "        else:\n",
    "            print('Invalid Phone number or Email')\n",
    "            return\n",
    "    else:\n",
    "        print(name, 'already exists')\n",
    "    return\n",
    "\n",
    "import re\n",
    "# Function to check if contact already exists\n",
    "def checkContactExists(name):\n",
    "    filename = 'DataFiles/contacts.txt'\n",
    "    with open(filename, 'r') as f:\n",
    "        filedata = f.read()\n",
    "        pattern = name+','\n",
    "    return re.search(pattern, filedata)\n",
    "import os\n",
    "#print(os.getcwd())\n",
    "#os.chdir(\"../ProblemSolvingAndPrograamming-Python-L2/Packages\")\n",
    "#print(os.getcwd())\n",
    "\n",
    "addContact('name3', 9888888888, 'name3_34@gmail.com')\n",
    "#checkContactExists(\"name2\")"
   ]
  },
  {
   "cell_type": "code",
   "execution_count": 6,
   "metadata": {},
   "outputs": [
    {
     "data": {
      "text/plain": [
       "[['name1',\n",
       "  '9988776655',\n",
       "  'satynarayana.mn@apssdc.inname2',\n",
       "  '9865432109',\n",
       "  'name2_34@gmail.com\\n']]"
      ]
     },
     "execution_count": 6,
     "metadata": {},
     "output_type": "execute_result"
    }
   ],
   "source": [
    "filename = 'DataFiles/contacts.txt'\n",
    "def csvToList(filename):\n",
    "    li = []\n",
    "    with open(filename, 'r') as f:\n",
    "        for line in f:\n",
    "            li.append(line.split(','))\n",
    "    return li\n",
    "\n",
    "def listToFile(li):\n",
    "    s = ''\n",
    "    for i in li:\n",
    "        s += ','.join(i)\n",
    "    return s\n",
    "    \n",
    "li = csvToList(filename)\n",
    "listToFile(li)\n",
    "csvToList(filename)\n",
    "csvToList(filename)"
   ]
  },
  {
   "cell_type": "code",
   "execution_count": 31,
   "metadata": {},
   "outputs": [
    {
     "name": "stdout",
     "output_type": "stream",
     "text": [
      "[['name1', '9999999999', 'satynarayana@apssdc.in\\n'], ['\\n'], ['name2', '9988889999', 'satysdsdssa@apssdc.in'], ['name3', '9888888888', 'name3_34@gmail.com\\n'], ['\\n']]\n",
      "saved contacts to contacts.txt\n"
     ]
    },
    {
     "data": {
      "text/plain": [
       "'Update Done'"
      ]
     },
     "execution_count": 31,
     "metadata": {},
     "output_type": "execute_result"
    }
   ],
   "source": [
    "filename = 'DataFiles/contacts.txt'\n",
    "def saveContacts(contactsList):\n",
    "    string_contacts=''\n",
    "    print(contactsList)\n",
    "    with open(filename, 'w') as f:\n",
    "        for line in contactsList:\n",
    "            #print(line,type(line))\n",
    "            if len(line)>2:\n",
    "                f.write(line[0]+','+line[1]+','+line[2]+'\\n')\n",
    "        \n",
    "        print('saved contacts to contacts.txt')\n",
    "    \n",
    "def updateContacts_TextFile(name,phone,email):\n",
    "    filename = 'DataFiles/contacts.txt'\n",
    "    if checkContactExists(name):\n",
    "        if pnv(phone) and ev(email):\n",
    "            data=csvToList(filename)\n",
    "            #print(data)\n",
    "            #print(\"name1\" in data[0])\n",
    "            for line in range(len(data)):\n",
    "                #print(data[line],name)\n",
    "                \n",
    "                if name in data[line]:\n",
    "                    data[line]=[name,str(phone),email]\n",
    "                    saveContacts(data)\n",
    "                    return \"Update Done\"\n",
    "        \n",
    "        else:\n",
    "            print('Invalid Phone number or Email')\n",
    "            return\n",
    "    else:\n",
    "        return name+\" Contact Not Found\"\n",
    "\n",
    "updateContacts_TextFile('name2',9988889999,\"satysdsdssa@apssdc.in\")\n",
    "#saveContacts("
   ]
  },
  {
   "cell_type": "code",
   "execution_count": 20,
   "metadata": {},
   "outputs": [
    {
     "name": "stdout",
     "output_type": "stream",
     "text": [
      "[]\n"
     ]
    }
   ],
   "source": [
    "#with open(filename, 'a') as f:\n",
    "#     print(f.readlines())\n",
    "filename = 'DataFiles/contacts.txt'\n",
    "a=open(filename)\n",
    "print(a.readlines())\n",
    "a.close()\n",
    "b=open(filename,'w')\n",
    "b.close()"
   ]
  },
  {
   "cell_type": "code",
   "execution_count": 2,
   "metadata": {},
   "outputs": [],
   "source": [
    "def deleteContacts_TextFile(name,phone,email):\n",
    "    filename = 'DataFiles/contacts.txt'\n",
    "    if checkContactExists(name):\n",
    "        if pnv(phone) and ev(email):\n",
    "            data=csvToList(filename)\n",
    "            #print(data)\n",
    "            #print(\"name1\" in data[0])\n",
    "            for line in range(len(data)):\n",
    "                #print(data[line],name)\n",
    "                \n",
    "                if name in data[line]:\n",
    "                    data[line]=[name,str(phone),email]\n",
    "                    saveContacts(data)\n",
    "                    return \"Update Done\"\n",
    "        \n",
    "        else:\n",
    "            print('Invalid Phone number or Email')\n",
    "            return\n",
    "    else:\n",
    "        return name+\" Contact Not Found\"\n"
   ]
  }
 ],
 "metadata": {
  "kernelspec": {
   "display_name": "Python 3",
   "language": "python",
   "name": "python3"
  },
  "language_info": {
   "codemirror_mode": {
    "name": "ipython",
    "version": 3
   },
   "file_extension": ".py",
   "mimetype": "text/x-python",
   "name": "python",
   "nbconvert_exporter": "python",
   "pygments_lexer": "ipython3",
   "version": "3.7.3"
  }
 },
 "nbformat": 4,
 "nbformat_minor": 2
}
